{
 "cells": [
  {
   "cell_type": "code",
   "execution_count": 93,
   "metadata": {},
   "outputs": [],
   "source": [
    "import pandas as pd \n",
    "import numpy as np\n",
    "from sklearn.preprocessing import scale\n",
    "from sklearn.metrics import mean_squared_error, recall_score, precision_score, confusion_matrix, f1_score\n",
    "import matplotlib.pyplot as plt\n",
    "from sklearn.ensemble import AdaBoostClassifier\n",
    "\n",
    "\n",
    "data = pd.read_csv('contest_train.csv')\n",
    "data = data.fillna(data.mean())\n",
    "data = data.drop(('ID'), axis = 1)\n",
    "\n",
    "# Новые объекты\n",
    "test = pd.read_csv('contest_test.csv')\n",
    "test = test.fillna(test.mean())\n",
    "ids = test['ID']\n",
    "test = test.drop(('ID'), axis=1)\n",
    "\n",
    "\n"
   ]
  },
  {
   "cell_type": "code",
   "execution_count": 94,
   "metadata": {},
   "outputs": [
    {
     "data": {
      "text/plain": [
       "((17164, 260), (7357, 260))"
      ]
     },
     "execution_count": 94,
     "metadata": {},
     "output_type": "execute_result"
    }
   ],
   "source": [
    "from sklearn.cross_validation import train_test_split\n",
    "\n",
    "X = data.drop(('TARGET'), axis=1)\n",
    "y = data['TARGET'][:]\n",
    "\n",
    "X_train, X_test, y_train, y_test = train_test_split(X, y, test_size = 0.3, random_state = 11)\n",
    "X_train = pd.DataFrame(X_train, columns=list(X_train))\n",
    "X_test = pd.DataFrame(X_test, columns=list(X_test))\n",
    "N_train = X_train.shape\n",
    "N_test = X_test.shape\n",
    "N_train, N_test\n"
   ]
  },
  {
   "cell_type": "code",
   "execution_count": 5,
   "metadata": {},
   "outputs": [
    {
     "name": "stdout",
     "output_type": "stream",
     "text": [
      "CV accuracy score: 70.07%\n"
     ]
    }
   ],
   "source": [
    "from sklearn.ensemble import RandomForestClassifier\n",
    "from sklearn.model_selection import cross_val_score, StratifiedKFold\n",
    "\n",
    "skf = StratifiedKFold(n_splits=5, shuffle=True, random_state=42)\n",
    "model = RandomForestClassifier(random_state=42, n_jobs=-1)\n",
    "result = cross_val_score(model, X_train, y_train, cv=skf)\n",
    "\n",
    "print(\"CV accuracy score: {:.2f}%\".format(result.mean()*100))\n"
   ]
  },
  {
   "cell_type": "code",
   "execution_count": 95,
   "metadata": {},
   "outputs": [
    {
     "name": "stdout",
     "output_type": "stream",
     "text": [
      "macro_f1_score:  0.389133860006\n",
      "accuracy:  0.716868288705\n"
     ]
    },
    {
     "data": {
      "text/plain": [
       "array([[5134,   60,   35],\n",
       "       [1567,   56,   39],\n",
       "       [ 346,   36,   84]], dtype=int64)"
      ]
     },
     "execution_count": 95,
     "metadata": {},
     "output_type": "execute_result"
    }
   ],
   "source": [
    "from sklearn.ensemble import RandomForestClassifier\n",
    "from sklearn.metrics import accuracy_score\n",
    "\n",
    "model = RandomForestClassifier(n_estimators=45, max_depth = 24, min_samples_leaf=1)  \n",
    "model.fit(X_train, y_train)\n",
    "y_pred = model.predict(X_test)\n",
    "\n",
    "print('macro_f1_score: ', f1_score(y_test, y_pred, average='macro'))\n",
    "print('accuracy: ', accuracy_score(y_test, y_pred))\n",
    "\n",
    "confusion_matrix(y_test, y_pred)\n"
   ]
  },
  {
   "cell_type": "code",
   "execution_count": 92,
   "metadata": {},
   "outputs": [
    {
     "data": {
      "text/plain": [
       "0.71890716324588821"
      ]
     },
     "execution_count": 92,
     "metadata": {},
     "output_type": "execute_result"
    }
   ],
   "source": [
    "# Запись для предсказания новых объектов\n",
    "\n",
    "model = RandomForestClassifier(n_estimators=35, max_depth = 24, min_samples_leaf=2)\n",
    "model.fit(X, y)\n",
    "y_pred = model.predict(test)\n"
   ]
  },
  {
   "cell_type": "code",
   "execution_count": 88,
   "metadata": {
    "collapsed": true
   },
   "outputs": [],
   "source": [
    "# Запись в файл \n",
    "\n",
    "export_data = pd.DataFrame(columns=['ID', 'TARGET'])\n",
    "export_data['ID'] = ids\n",
    "export_data['TARGET'] = y_pred\n",
    "export_data.to_csv('contest_answer.csv')        "
   ]
  },
  {
   "cell_type": "code",
   "execution_count": 89,
   "metadata": {
    "scrolled": true
   },
   "outputs": [
    {
     "data": {
      "text/plain": [
       "(8732, 380, 372)"
      ]
     },
     "execution_count": 89,
     "metadata": {},
     "output_type": "execute_result"
    }
   ],
   "source": [
    "# Второе задание \n",
    "\n",
    "zero = []\n",
    "first = []\n",
    "ids_first = []\n",
    "second = []\n",
    "ids_sec = []\n",
    "\n",
    "for i in range(len(test)):\n",
    "    if y_pred[i] == np.int64(0):\n",
    "        zero.append(y_pred[i])\n",
    "    if y_pred[i] == np.int64(1):\n",
    "        first.append(y_pred[i])\n",
    "        ids_first.append(ids[i])\n",
    "    if y_pred[i] == np.int64(2):\n",
    "        second.append(y_pred[i])\n",
    "        ids_sec.append(ids[i])\n",
    "        \n",
    "len(zero), len(first), len(second)"
   ]
  },
  {
   "cell_type": "code",
   "execution_count": 90,
   "metadata": {},
   "outputs": [],
   "source": [
    "res = pd.DataFrame(columns=['ID', 'TARGET'])\n",
    "res['ID'] = ids_first\n",
    "res['TARGET'] = first\n",
    "res = res.sample(n=366)\n",
    "\n",
    "res1 = pd.DataFrame(columns=['ID', 'TARGET'])\n",
    "res1['ID'] = ids_sec\n",
    "res1['TARGET'] = second\n",
    "res1 = res1.sample(n=200)\n",
    "result = res.append(res1)\n"
   ]
  },
  {
   "cell_type": "code",
   "execution_count": 91,
   "metadata": {
    "collapsed": true
   },
   "outputs": [],
   "source": [
    "result.to_csv('contest_segments.csv')"
   ]
  }
 ],
 "metadata": {
  "kernelspec": {
   "display_name": "Python 3",
   "language": "python",
   "name": "python3"
  },
  "language_info": {
   "codemirror_mode": {
    "name": "ipython",
    "version": 3
   },
   "file_extension": ".py",
   "mimetype": "text/x-python",
   "name": "python",
   "nbconvert_exporter": "python",
   "pygments_lexer": "ipython3",
   "version": "3.6.3"
  }
 },
 "nbformat": 4,
 "nbformat_minor": 2
}
