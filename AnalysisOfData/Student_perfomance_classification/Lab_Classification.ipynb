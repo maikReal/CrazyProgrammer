{
 "cells": [
  {
   "cell_type": "markdown",
   "metadata": {},
   "source": [
    "# Классификация\n",
    "## Крупин Михаил 16БИ-2"
   ]
  },
  {
   "cell_type": "code",
   "execution_count": 270,
   "metadata": {},
   "outputs": [
    {
     "data": {
      "text/html": [
       "<div>\n",
       "<style scoped>\n",
       "    .dataframe tbody tr th:only-of-type {\n",
       "        vertical-align: middle;\n",
       "    }\n",
       "\n",
       "    .dataframe tbody tr th {\n",
       "        vertical-align: top;\n",
       "    }\n",
       "\n",
       "    .dataframe thead th {\n",
       "        text-align: right;\n",
       "    }\n",
       "</style>\n",
       "<table border=\"1\" class=\"dataframe\">\n",
       "  <thead>\n",
       "    <tr style=\"text-align: right;\">\n",
       "      <th></th>\n",
       "      <th>ID</th>\n",
       "      <th>Subject</th>\n",
       "      <th>school</th>\n",
       "      <th>sex</th>\n",
       "      <th>age</th>\n",
       "      <th>address</th>\n",
       "      <th>famsize</th>\n",
       "      <th>Pstatus</th>\n",
       "      <th>Medu</th>\n",
       "      <th>Fedu</th>\n",
       "      <th>Mjob</th>\n",
       "      <th>Fjob</th>\n",
       "      <th>reason</th>\n",
       "      <th>guardian</th>\n",
       "      <th>traveltime</th>\n",
       "      <th>studytime</th>\n",
       "      <th>failures</th>\n",
       "      <th>schoolsup</th>\n",
       "      <th>famsup</th>\n",
       "      <th>paid</th>\n",
       "      <th>activities</th>\n",
       "      <th>nursery</th>\n",
       "      <th>higher</th>\n",
       "      <th>internet</th>\n",
       "      <th>romantic</th>\n",
       "      <th>famrel</th>\n",
       "      <th>freetime</th>\n",
       "      <th>goout</th>\n",
       "      <th>Dalc</th>\n",
       "      <th>Walc</th>\n",
       "      <th>health</th>\n",
       "      <th>absences</th>\n",
       "      <th>G1</th>\n",
       "      <th>G2</th>\n",
       "      <th>G3</th>\n",
       "    </tr>\n",
       "  </thead>\n",
       "  <tbody>\n",
       "    <tr>\n",
       "      <th>0</th>\n",
       "      <td>100097</td>\n",
       "      <td>Por</td>\n",
       "      <td>GP</td>\n",
       "      <td>F</td>\n",
       "      <td>16</td>\n",
       "      <td>U</td>\n",
       "      <td>GT3</td>\n",
       "      <td>A</td>\n",
       "      <td>3</td>\n",
       "      <td>4</td>\n",
       "      <td>services</td>\n",
       "      <td>other</td>\n",
       "      <td>course</td>\n",
       "      <td>father</td>\n",
       "      <td>1</td>\n",
       "      <td>1</td>\n",
       "      <td>0</td>\n",
       "      <td>no</td>\n",
       "      <td>no</td>\n",
       "      <td>no</td>\n",
       "      <td>no</td>\n",
       "      <td>yes</td>\n",
       "      <td>yes</td>\n",
       "      <td>yes</td>\n",
       "      <td>no</td>\n",
       "      <td>3</td>\n",
       "      <td>2</td>\n",
       "      <td>1</td>\n",
       "      <td>1</td>\n",
       "      <td>4</td>\n",
       "      <td>5</td>\n",
       "      <td>12</td>\n",
       "      <td>15</td>\n",
       "      <td>13</td>\n",
       "      <td>14</td>\n",
       "    </tr>\n",
       "    <tr>\n",
       "      <th>1</th>\n",
       "      <td>101021</td>\n",
       "      <td>Por</td>\n",
       "      <td>GP</td>\n",
       "      <td>F</td>\n",
       "      <td>17</td>\n",
       "      <td>U</td>\n",
       "      <td>GT3</td>\n",
       "      <td>T</td>\n",
       "      <td>3</td>\n",
       "      <td>2</td>\n",
       "      <td>other</td>\n",
       "      <td>other</td>\n",
       "      <td>course</td>\n",
       "      <td>mother</td>\n",
       "      <td>1</td>\n",
       "      <td>2</td>\n",
       "      <td>0</td>\n",
       "      <td>no</td>\n",
       "      <td>no</td>\n",
       "      <td>no</td>\n",
       "      <td>yes</td>\n",
       "      <td>no</td>\n",
       "      <td>yes</td>\n",
       "      <td>yes</td>\n",
       "      <td>no</td>\n",
       "      <td>5</td>\n",
       "      <td>3</td>\n",
       "      <td>4</td>\n",
       "      <td>1</td>\n",
       "      <td>3</td>\n",
       "      <td>3</td>\n",
       "      <td>2</td>\n",
       "      <td>17</td>\n",
       "      <td>18</td>\n",
       "      <td>17</td>\n",
       "    </tr>\n",
       "    <tr>\n",
       "      <th>2</th>\n",
       "      <td>102965</td>\n",
       "      <td>Por</td>\n",
       "      <td>GP</td>\n",
       "      <td>M</td>\n",
       "      <td>16</td>\n",
       "      <td>U</td>\n",
       "      <td>LE3</td>\n",
       "      <td>T</td>\n",
       "      <td>1</td>\n",
       "      <td>2</td>\n",
       "      <td>health</td>\n",
       "      <td>services</td>\n",
       "      <td>course</td>\n",
       "      <td>mother</td>\n",
       "      <td>2</td>\n",
       "      <td>1</td>\n",
       "      <td>2</td>\n",
       "      <td>no</td>\n",
       "      <td>no</td>\n",
       "      <td>no</td>\n",
       "      <td>no</td>\n",
       "      <td>no</td>\n",
       "      <td>yes</td>\n",
       "      <td>yes</td>\n",
       "      <td>no</td>\n",
       "      <td>4</td>\n",
       "      <td>4</td>\n",
       "      <td>5</td>\n",
       "      <td>3</td>\n",
       "      <td>5</td>\n",
       "      <td>5</td>\n",
       "      <td>0</td>\n",
       "      <td>9</td>\n",
       "      <td>8</td>\n",
       "      <td>10</td>\n",
       "    </tr>\n",
       "    <tr>\n",
       "      <th>3</th>\n",
       "      <td>102989</td>\n",
       "      <td>Por</td>\n",
       "      <td>MS</td>\n",
       "      <td>M</td>\n",
       "      <td>17</td>\n",
       "      <td>U</td>\n",
       "      <td>GT3</td>\n",
       "      <td>T</td>\n",
       "      <td>2</td>\n",
       "      <td>3</td>\n",
       "      <td>other</td>\n",
       "      <td>services</td>\n",
       "      <td>home</td>\n",
       "      <td>father</td>\n",
       "      <td>2</td>\n",
       "      <td>2</td>\n",
       "      <td>0</td>\n",
       "      <td>no</td>\n",
       "      <td>no</td>\n",
       "      <td>no</td>\n",
       "      <td>yes</td>\n",
       "      <td>yes</td>\n",
       "      <td>yes</td>\n",
       "      <td>yes</td>\n",
       "      <td>no</td>\n",
       "      <td>4</td>\n",
       "      <td>4</td>\n",
       "      <td>3</td>\n",
       "      <td>1</td>\n",
       "      <td>1</td>\n",
       "      <td>3</td>\n",
       "      <td>4</td>\n",
       "      <td>14</td>\n",
       "      <td>15</td>\n",
       "      <td>16</td>\n",
       "    </tr>\n",
       "    <tr>\n",
       "      <th>4</th>\n",
       "      <td>103131</td>\n",
       "      <td>Por</td>\n",
       "      <td>GP</td>\n",
       "      <td>F</td>\n",
       "      <td>16</td>\n",
       "      <td>U</td>\n",
       "      <td>GT3</td>\n",
       "      <td>T</td>\n",
       "      <td>1</td>\n",
       "      <td>1</td>\n",
       "      <td>at_home</td>\n",
       "      <td>other</td>\n",
       "      <td>home</td>\n",
       "      <td>mother</td>\n",
       "      <td>2</td>\n",
       "      <td>1</td>\n",
       "      <td>0</td>\n",
       "      <td>no</td>\n",
       "      <td>yes</td>\n",
       "      <td>no</td>\n",
       "      <td>no</td>\n",
       "      <td>yes</td>\n",
       "      <td>yes</td>\n",
       "      <td>no</td>\n",
       "      <td>no</td>\n",
       "      <td>4</td>\n",
       "      <td>3</td>\n",
       "      <td>2</td>\n",
       "      <td>1</td>\n",
       "      <td>4</td>\n",
       "      <td>5</td>\n",
       "      <td>2</td>\n",
       "      <td>12</td>\n",
       "      <td>13</td>\n",
       "      <td>13</td>\n",
       "    </tr>\n",
       "  </tbody>\n",
       "</table>\n",
       "</div>"
      ],
      "text/plain": [
       "       ID Subject school sex  age address famsize Pstatus  Medu  Fedu  \\\n",
       "0  100097  Por     GP     F   16   U       GT3     A       3     4      \n",
       "1  101021  Por     GP     F   17   U       GT3     T       3     2      \n",
       "2  102965  Por     GP     M   16   U       LE3     T       1     2      \n",
       "3  102989  Por     MS     M   17   U       GT3     T       2     3      \n",
       "4  103131  Por     GP     F   16   U       GT3     T       1     1      \n",
       "\n",
       "       Mjob      Fjob  reason guardian  traveltime  studytime  failures  \\\n",
       "0  services  other     course  father   1           1          0          \n",
       "1  other     other     course  mother   1           2          0          \n",
       "2  health    services  course  mother   2           1          2          \n",
       "3  other     services  home    father   2           2          0          \n",
       "4  at_home   other     home    mother   2           1          0          \n",
       "\n",
       "  schoolsup famsup paid activities nursery higher internet romantic  famrel  \\\n",
       "0  no        no     no   no         yes     yes    yes      no       3        \n",
       "1  no        no     no   yes        no      yes    yes      no       5        \n",
       "2  no        no     no   no         no      yes    yes      no       4        \n",
       "3  no        no     no   yes        yes     yes    yes      no       4        \n",
       "4  no        yes    no   no         yes     yes    no       no       4        \n",
       "\n",
       "   freetime  goout  Dalc  Walc  health  absences  G1  G2  G3  \n",
       "0  2         1      1     4     5       12        15  13  14  \n",
       "1  3         4      1     3     3       2         17  18  17  \n",
       "2  4         5      3     5     5       0         9   8   10  \n",
       "3  4         3      1     1     3       4         14  15  16  \n",
       "4  3         2      1     4     5       2         12  13  13  "
      ]
     },
     "execution_count": 270,
     "metadata": {},
     "output_type": "execute_result"
    }
   ],
   "source": [
    "import pandas as pd\n",
    "import matplotlib.pyplot as plt\n",
    "import numpy as np\n",
    "from sklearn.model_selection import train_test_split\n",
    "import warnings\n",
    "\n",
    "warnings.filterwarnings('ignore')\n",
    "\n",
    "pd.set_option('display.max_columns', 60)\n",
    "\n",
    "pd.set_option('display.max_colwidth', -1)\n",
    "\n",
    "data = pd.read_csv(\"students_data.csv\")\n",
    "data.head()"
   ]
  },
  {
   "cell_type": "markdown",
   "metadata": {},
   "source": [
    "# Первая часть. Препроцессинг данных"
   ]
  },
  {
   "cell_type": "markdown",
   "metadata": {},
   "source": [
    "## Задание 1"
   ]
  },
  {
   "cell_type": "markdown",
   "metadata": {},
   "source": [
    "Для начала определим наличие пропусков в наших данных и наличие выбросов. Также определим типы наших признаков и по необходимости преобразуем их другому виду. Для того, чтобы узнать более подробную информацию о наших данных, используем команды `.info` и  `.describe()`"
   ]
  },
  {
   "cell_type": "code",
   "execution_count": 271,
   "metadata": {},
   "outputs": [
    {
     "name": "stdout",
     "output_type": "stream",
     "text": [
      "<class 'pandas.core.frame.DataFrame'>\n",
      "RangeIndex: 1044 entries, 0 to 1043\n",
      "Data columns (total 35 columns):\n",
      "ID            1044 non-null int64\n",
      "Subject       1044 non-null object\n",
      "school        1044 non-null object\n",
      "sex           1044 non-null object\n",
      "age           1044 non-null int64\n",
      "address       1044 non-null object\n",
      "famsize       1044 non-null object\n",
      "Pstatus       1044 non-null object\n",
      "Medu          1044 non-null int64\n",
      "Fedu          1044 non-null int64\n",
      "Mjob          1044 non-null object\n",
      "Fjob          1044 non-null object\n",
      "reason        1044 non-null object\n",
      "guardian      1044 non-null object\n",
      "traveltime    1044 non-null int64\n",
      "studytime     1044 non-null int64\n",
      "failures      1044 non-null int64\n",
      "schoolsup     1044 non-null object\n",
      "famsup        1044 non-null object\n",
      "paid          1044 non-null object\n",
      "activities    1044 non-null object\n",
      "nursery       1044 non-null object\n",
      "higher        1044 non-null object\n",
      "internet      1044 non-null object\n",
      "romantic      1044 non-null object\n",
      "famrel        1044 non-null int64\n",
      "freetime      1044 non-null int64\n",
      "goout         1044 non-null int64\n",
      "Dalc          1044 non-null int64\n",
      "Walc          1044 non-null int64\n",
      "health        1044 non-null int64\n",
      "absences      1044 non-null int64\n",
      "G1            1044 non-null int64\n",
      "G2            1044 non-null int64\n",
      "G3            1044 non-null int64\n",
      "dtypes: int64(17), object(18)\n",
      "memory usage: 285.5+ KB\n"
     ]
    }
   ],
   "source": [
    "data.info()\n"
   ]
  },
  {
   "cell_type": "markdown",
   "metadata": {},
   "source": [
    "В результате данной команды можно убедиться в том, что в данных отсутствуют какие-либо пропуски. Также эта команда показывает тип признака.\n",
    "Теперь выведем некоторую базовую статистику для наших категориальных и числовых признаков"
   ]
  },
  {
   "cell_type": "code",
   "execution_count": 272,
   "metadata": {},
   "outputs": [
    {
     "data": {
      "text/html": [
       "<div>\n",
       "<style scoped>\n",
       "    .dataframe tbody tr th:only-of-type {\n",
       "        vertical-align: middle;\n",
       "    }\n",
       "\n",
       "    .dataframe tbody tr th {\n",
       "        vertical-align: top;\n",
       "    }\n",
       "\n",
       "    .dataframe thead th {\n",
       "        text-align: right;\n",
       "    }\n",
       "</style>\n",
       "<table border=\"1\" class=\"dataframe\">\n",
       "  <thead>\n",
       "    <tr style=\"text-align: right;\">\n",
       "      <th></th>\n",
       "      <th>ID</th>\n",
       "      <th>age</th>\n",
       "      <th>Medu</th>\n",
       "      <th>Fedu</th>\n",
       "      <th>traveltime</th>\n",
       "      <th>studytime</th>\n",
       "      <th>failures</th>\n",
       "      <th>famrel</th>\n",
       "      <th>freetime</th>\n",
       "      <th>goout</th>\n",
       "      <th>Dalc</th>\n",
       "      <th>Walc</th>\n",
       "      <th>health</th>\n",
       "      <th>absences</th>\n",
       "      <th>G1</th>\n",
       "      <th>G2</th>\n",
       "      <th>G3</th>\n",
       "    </tr>\n",
       "  </thead>\n",
       "  <tbody>\n",
       "    <tr>\n",
       "      <th>count</th>\n",
       "      <td>1044.000000</td>\n",
       "      <td>1044.000000</td>\n",
       "      <td>1044.000000</td>\n",
       "      <td>1044.000000</td>\n",
       "      <td>1044.000000</td>\n",
       "      <td>1044.000000</td>\n",
       "      <td>1044.000000</td>\n",
       "      <td>1044.000000</td>\n",
       "      <td>1044.000000</td>\n",
       "      <td>1044.000000</td>\n",
       "      <td>1044.000000</td>\n",
       "      <td>1044.000000</td>\n",
       "      <td>1044.000000</td>\n",
       "      <td>1044.000000</td>\n",
       "      <td>1044.000000</td>\n",
       "      <td>1044.000000</td>\n",
       "      <td>1044.000000</td>\n",
       "    </tr>\n",
       "    <tr>\n",
       "      <th>mean</th>\n",
       "      <td>547057.190613</td>\n",
       "      <td>16.726054</td>\n",
       "      <td>2.603448</td>\n",
       "      <td>2.387931</td>\n",
       "      <td>1.522989</td>\n",
       "      <td>1.970307</td>\n",
       "      <td>0.264368</td>\n",
       "      <td>3.935824</td>\n",
       "      <td>3.201149</td>\n",
       "      <td>3.156130</td>\n",
       "      <td>1.494253</td>\n",
       "      <td>2.284483</td>\n",
       "      <td>3.543103</td>\n",
       "      <td>4.434866</td>\n",
       "      <td>11.213602</td>\n",
       "      <td>11.246169</td>\n",
       "      <td>11.341954</td>\n",
       "    </tr>\n",
       "    <tr>\n",
       "      <th>std</th>\n",
       "      <td>263827.330362</td>\n",
       "      <td>1.239975</td>\n",
       "      <td>1.124907</td>\n",
       "      <td>1.099938</td>\n",
       "      <td>0.731727</td>\n",
       "      <td>0.834353</td>\n",
       "      <td>0.656142</td>\n",
       "      <td>0.933401</td>\n",
       "      <td>1.031507</td>\n",
       "      <td>1.152575</td>\n",
       "      <td>0.911714</td>\n",
       "      <td>1.285105</td>\n",
       "      <td>1.424703</td>\n",
       "      <td>6.210017</td>\n",
       "      <td>2.983394</td>\n",
       "      <td>3.285071</td>\n",
       "      <td>3.864796</td>\n",
       "    </tr>\n",
       "    <tr>\n",
       "      <th>min</th>\n",
       "      <td>100097.000000</td>\n",
       "      <td>15.000000</td>\n",
       "      <td>0.000000</td>\n",
       "      <td>0.000000</td>\n",
       "      <td>1.000000</td>\n",
       "      <td>1.000000</td>\n",
       "      <td>0.000000</td>\n",
       "      <td>1.000000</td>\n",
       "      <td>1.000000</td>\n",
       "      <td>1.000000</td>\n",
       "      <td>1.000000</td>\n",
       "      <td>1.000000</td>\n",
       "      <td>1.000000</td>\n",
       "      <td>0.000000</td>\n",
       "      <td>0.000000</td>\n",
       "      <td>0.000000</td>\n",
       "      <td>0.000000</td>\n",
       "    </tr>\n",
       "    <tr>\n",
       "      <th>25%</th>\n",
       "      <td>324017.500000</td>\n",
       "      <td>16.000000</td>\n",
       "      <td>2.000000</td>\n",
       "      <td>1.000000</td>\n",
       "      <td>1.000000</td>\n",
       "      <td>1.000000</td>\n",
       "      <td>0.000000</td>\n",
       "      <td>4.000000</td>\n",
       "      <td>3.000000</td>\n",
       "      <td>2.000000</td>\n",
       "      <td>1.000000</td>\n",
       "      <td>1.000000</td>\n",
       "      <td>3.000000</td>\n",
       "      <td>0.000000</td>\n",
       "      <td>9.000000</td>\n",
       "      <td>9.000000</td>\n",
       "      <td>10.000000</td>\n",
       "    </tr>\n",
       "    <tr>\n",
       "      <th>50%</th>\n",
       "      <td>554339.500000</td>\n",
       "      <td>17.000000</td>\n",
       "      <td>3.000000</td>\n",
       "      <td>2.000000</td>\n",
       "      <td>1.000000</td>\n",
       "      <td>2.000000</td>\n",
       "      <td>0.000000</td>\n",
       "      <td>4.000000</td>\n",
       "      <td>3.000000</td>\n",
       "      <td>3.000000</td>\n",
       "      <td>1.000000</td>\n",
       "      <td>2.000000</td>\n",
       "      <td>4.000000</td>\n",
       "      <td>2.000000</td>\n",
       "      <td>11.000000</td>\n",
       "      <td>11.000000</td>\n",
       "      <td>11.000000</td>\n",
       "    </tr>\n",
       "    <tr>\n",
       "      <th>75%</th>\n",
       "      <td>774486.000000</td>\n",
       "      <td>18.000000</td>\n",
       "      <td>4.000000</td>\n",
       "      <td>3.000000</td>\n",
       "      <td>2.000000</td>\n",
       "      <td>2.000000</td>\n",
       "      <td>0.000000</td>\n",
       "      <td>5.000000</td>\n",
       "      <td>4.000000</td>\n",
       "      <td>4.000000</td>\n",
       "      <td>2.000000</td>\n",
       "      <td>3.000000</td>\n",
       "      <td>5.000000</td>\n",
       "      <td>6.000000</td>\n",
       "      <td>13.000000</td>\n",
       "      <td>13.000000</td>\n",
       "      <td>14.000000</td>\n",
       "    </tr>\n",
       "    <tr>\n",
       "      <th>max</th>\n",
       "      <td>999194.000000</td>\n",
       "      <td>22.000000</td>\n",
       "      <td>4.000000</td>\n",
       "      <td>4.000000</td>\n",
       "      <td>4.000000</td>\n",
       "      <td>4.000000</td>\n",
       "      <td>3.000000</td>\n",
       "      <td>5.000000</td>\n",
       "      <td>5.000000</td>\n",
       "      <td>5.000000</td>\n",
       "      <td>5.000000</td>\n",
       "      <td>5.000000</td>\n",
       "      <td>5.000000</td>\n",
       "      <td>75.000000</td>\n",
       "      <td>19.000000</td>\n",
       "      <td>19.000000</td>\n",
       "      <td>20.000000</td>\n",
       "    </tr>\n",
       "  </tbody>\n",
       "</table>\n",
       "</div>"
      ],
      "text/plain": [
       "                  ID          age         Medu         Fedu   traveltime  \\\n",
       "count  1044.000000    1044.000000  1044.000000  1044.000000  1044.000000   \n",
       "mean   547057.190613  16.726054    2.603448     2.387931     1.522989      \n",
       "std    263827.330362  1.239975     1.124907     1.099938     0.731727      \n",
       "min    100097.000000  15.000000    0.000000     0.000000     1.000000      \n",
       "25%    324017.500000  16.000000    2.000000     1.000000     1.000000      \n",
       "50%    554339.500000  17.000000    3.000000     2.000000     1.000000      \n",
       "75%    774486.000000  18.000000    4.000000     3.000000     2.000000      \n",
       "max    999194.000000  22.000000    4.000000     4.000000     4.000000      \n",
       "\n",
       "         studytime     failures       famrel     freetime        goout  \\\n",
       "count  1044.000000  1044.000000  1044.000000  1044.000000  1044.000000   \n",
       "mean   1.970307     0.264368     3.935824     3.201149     3.156130      \n",
       "std    0.834353     0.656142     0.933401     1.031507     1.152575      \n",
       "min    1.000000     0.000000     1.000000     1.000000     1.000000      \n",
       "25%    1.000000     0.000000     4.000000     3.000000     2.000000      \n",
       "50%    2.000000     0.000000     4.000000     3.000000     3.000000      \n",
       "75%    2.000000     0.000000     5.000000     4.000000     4.000000      \n",
       "max    4.000000     3.000000     5.000000     5.000000     5.000000      \n",
       "\n",
       "              Dalc         Walc       health     absences           G1  \\\n",
       "count  1044.000000  1044.000000  1044.000000  1044.000000  1044.000000   \n",
       "mean   1.494253     2.284483     3.543103     4.434866     11.213602     \n",
       "std    0.911714     1.285105     1.424703     6.210017     2.983394      \n",
       "min    1.000000     1.000000     1.000000     0.000000     0.000000      \n",
       "25%    1.000000     1.000000     3.000000     0.000000     9.000000      \n",
       "50%    1.000000     2.000000     4.000000     2.000000     11.000000     \n",
       "75%    2.000000     3.000000     5.000000     6.000000     13.000000     \n",
       "max    5.000000     5.000000     5.000000     75.000000    19.000000     \n",
       "\n",
       "                G2           G3  \n",
       "count  1044.000000  1044.000000  \n",
       "mean   11.246169    11.341954    \n",
       "std    3.285071     3.864796     \n",
       "min    0.000000     0.000000     \n",
       "25%    9.000000     10.000000    \n",
       "50%    11.000000    11.000000    \n",
       "75%    13.000000    14.000000    \n",
       "max    19.000000    20.000000    "
      ]
     },
     "execution_count": 272,
     "metadata": {},
     "output_type": "execute_result"
    }
   ],
   "source": [
    "# For numeric features\n",
    "data.describe()"
   ]
  },
  {
   "cell_type": "code",
   "execution_count": 273,
   "metadata": {},
   "outputs": [
    {
     "data": {
      "text/html": [
       "<div>\n",
       "<style scoped>\n",
       "    .dataframe tbody tr th:only-of-type {\n",
       "        vertical-align: middle;\n",
       "    }\n",
       "\n",
       "    .dataframe tbody tr th {\n",
       "        vertical-align: top;\n",
       "    }\n",
       "\n",
       "    .dataframe thead th {\n",
       "        text-align: right;\n",
       "    }\n",
       "</style>\n",
       "<table border=\"1\" class=\"dataframe\">\n",
       "  <thead>\n",
       "    <tr style=\"text-align: right;\">\n",
       "      <th></th>\n",
       "      <th>Subject</th>\n",
       "      <th>school</th>\n",
       "      <th>sex</th>\n",
       "      <th>address</th>\n",
       "      <th>famsize</th>\n",
       "      <th>Pstatus</th>\n",
       "      <th>Mjob</th>\n",
       "      <th>Fjob</th>\n",
       "      <th>reason</th>\n",
       "      <th>guardian</th>\n",
       "      <th>schoolsup</th>\n",
       "      <th>famsup</th>\n",
       "      <th>paid</th>\n",
       "      <th>activities</th>\n",
       "      <th>nursery</th>\n",
       "      <th>higher</th>\n",
       "      <th>internet</th>\n",
       "      <th>romantic</th>\n",
       "    </tr>\n",
       "  </thead>\n",
       "  <tbody>\n",
       "    <tr>\n",
       "      <th>count</th>\n",
       "      <td>1044</td>\n",
       "      <td>1044</td>\n",
       "      <td>1044</td>\n",
       "      <td>1044</td>\n",
       "      <td>1044</td>\n",
       "      <td>1044</td>\n",
       "      <td>1044</td>\n",
       "      <td>1044</td>\n",
       "      <td>1044</td>\n",
       "      <td>1044</td>\n",
       "      <td>1044</td>\n",
       "      <td>1044</td>\n",
       "      <td>1044</td>\n",
       "      <td>1044</td>\n",
       "      <td>1044</td>\n",
       "      <td>1044</td>\n",
       "      <td>1044</td>\n",
       "      <td>1044</td>\n",
       "    </tr>\n",
       "    <tr>\n",
       "      <th>unique</th>\n",
       "      <td>2</td>\n",
       "      <td>2</td>\n",
       "      <td>2</td>\n",
       "      <td>2</td>\n",
       "      <td>2</td>\n",
       "      <td>2</td>\n",
       "      <td>5</td>\n",
       "      <td>5</td>\n",
       "      <td>4</td>\n",
       "      <td>3</td>\n",
       "      <td>2</td>\n",
       "      <td>2</td>\n",
       "      <td>2</td>\n",
       "      <td>2</td>\n",
       "      <td>2</td>\n",
       "      <td>2</td>\n",
       "      <td>2</td>\n",
       "      <td>2</td>\n",
       "    </tr>\n",
       "    <tr>\n",
       "      <th>top</th>\n",
       "      <td>Por</td>\n",
       "      <td>GP</td>\n",
       "      <td>F</td>\n",
       "      <td>U</td>\n",
       "      <td>GT3</td>\n",
       "      <td>T</td>\n",
       "      <td>other</td>\n",
       "      <td>other</td>\n",
       "      <td>course</td>\n",
       "      <td>mother</td>\n",
       "      <td>no</td>\n",
       "      <td>yes</td>\n",
       "      <td>no</td>\n",
       "      <td>no</td>\n",
       "      <td>yes</td>\n",
       "      <td>yes</td>\n",
       "      <td>yes</td>\n",
       "      <td>no</td>\n",
       "    </tr>\n",
       "    <tr>\n",
       "      <th>freq</th>\n",
       "      <td>649</td>\n",
       "      <td>772</td>\n",
       "      <td>591</td>\n",
       "      <td>759</td>\n",
       "      <td>738</td>\n",
       "      <td>923</td>\n",
       "      <td>399</td>\n",
       "      <td>584</td>\n",
       "      <td>430</td>\n",
       "      <td>728</td>\n",
       "      <td>925</td>\n",
       "      <td>640</td>\n",
       "      <td>824</td>\n",
       "      <td>528</td>\n",
       "      <td>835</td>\n",
       "      <td>955</td>\n",
       "      <td>827</td>\n",
       "      <td>673</td>\n",
       "    </tr>\n",
       "  </tbody>\n",
       "</table>\n",
       "</div>"
      ],
      "text/plain": [
       "       Subject school   sex address famsize Pstatus   Mjob   Fjob  reason  \\\n",
       "count   1044    1044   1044  1044    1044    1044    1044   1044   1044     \n",
       "unique  2       2      2     2       2       2       5      5      4        \n",
       "top     Por     GP     F     U       GT3     T       other  other  course   \n",
       "freq    649     772    591   759     738     923     399    584    430      \n",
       "\n",
       "       guardian schoolsup famsup  paid activities nursery higher internet  \\\n",
       "count   1044     1044      1044   1044  1044       1044    1044   1044      \n",
       "unique  3        2         2      2     2          2       2      2         \n",
       "top     mother   no        yes    no    no         yes     yes    yes       \n",
       "freq    728      925       640    824   528        835     955    827       \n",
       "\n",
       "       romantic  \n",
       "count   1044     \n",
       "unique  2        \n",
       "top     no       \n",
       "freq    673      "
      ]
     },
     "execution_count": 273,
     "metadata": {},
     "output_type": "execute_result"
    }
   ],
   "source": [
    "# For categorical features\n",
    "data.describe(include=[object])"
   ]
  },
  {
   "cell_type": "markdown",
   "metadata": {},
   "source": [
    "Для числовых признаков все параметры достаточно понятные, а вот что касается категориальных, то нужно разъяснить слегка. <br>\n",
    "`count` - кол-во объектов <br>\n",
    "`unique` - кол-во уникалных значений для признака <br>\n",
    "`top` - наиболее встречающееся значение для признака <br>\n",
    "`freq` - частота повторения наиболее встречающегося значения для признака <br>"
   ]
  },
  {
   "cell_type": "markdown",
   "metadata": {},
   "source": [
    "Также для простоты работы переведем наши категориальные данные в бинарные"
   ]
  },
  {
   "cell_type": "code",
   "execution_count": 274,
   "metadata": {},
   "outputs": [],
   "source": [
    "# Отделение числовых и категориальных признаков \n",
    "categorical_features = [c for c in data.columns if data[c].dtype.name == 'object']\n",
    "numerical_features = [c for c in data.columns if data[c].dtype.name != 'object']\n",
    "data_describe = data.describe(include=[object])\n"
   ]
  },
  {
   "cell_type": "code",
   "execution_count": 275,
   "metadata": {},
   "outputs": [],
   "source": [
    "binary_columns = [c for c in categorical_features if data_describe[c]['unique'] == 2]\n",
    "nonbinary_columns = [c for c in categorical_features if data_describe[c]['unique'] > 2]\n",
    "binary_columns, nonbinary_columns\n",
    "\n",
    "# Бинаризация данных с двумя значениями \n",
    "# 0 - Por, 1 - Math\n",
    "for c in binary_columns:\n",
    "    top = data_describe[c]['top']\n",
    "    top_items = data[c] == top\n",
    "    data.at[top_items, c] = 0 \n",
    "    data.at[np.logical_not(top_items), c] = 1\n",
    "\n",
    "data\n",
    "    \n",
    "# Бинаризауция данных с кол-ом значений больше 2    \n",
    "data_nonbinary = pd.get_dummies(data[nonbinary_columns])"
   ]
  },
  {
   "cell_type": "code",
   "execution_count": 276,
   "metadata": {},
   "outputs": [
    {
     "data": {
      "text/html": [
       "<div>\n",
       "<style scoped>\n",
       "    .dataframe tbody tr th:only-of-type {\n",
       "        vertical-align: middle;\n",
       "    }\n",
       "\n",
       "    .dataframe tbody tr th {\n",
       "        vertical-align: top;\n",
       "    }\n",
       "\n",
       "    .dataframe thead th {\n",
       "        text-align: right;\n",
       "    }\n",
       "</style>\n",
       "<table border=\"1\" class=\"dataframe\">\n",
       "  <thead>\n",
       "    <tr style=\"text-align: right;\">\n",
       "      <th></th>\n",
       "      <th>ID</th>\n",
       "      <th>Subject</th>\n",
       "      <th>school</th>\n",
       "      <th>sex</th>\n",
       "      <th>age</th>\n",
       "      <th>address</th>\n",
       "      <th>famsize</th>\n",
       "      <th>Pstatus</th>\n",
       "      <th>Medu</th>\n",
       "      <th>Fedu</th>\n",
       "      <th>traveltime</th>\n",
       "      <th>studytime</th>\n",
       "      <th>failures</th>\n",
       "      <th>schoolsup</th>\n",
       "      <th>famsup</th>\n",
       "      <th>paid</th>\n",
       "      <th>activities</th>\n",
       "      <th>nursery</th>\n",
       "      <th>higher</th>\n",
       "      <th>internet</th>\n",
       "      <th>romantic</th>\n",
       "      <th>famrel</th>\n",
       "      <th>freetime</th>\n",
       "      <th>goout</th>\n",
       "      <th>Dalc</th>\n",
       "      <th>Walc</th>\n",
       "      <th>health</th>\n",
       "      <th>absences</th>\n",
       "      <th>G1</th>\n",
       "      <th>G2</th>\n",
       "      <th>G3</th>\n",
       "      <th>Mjob_at_home</th>\n",
       "      <th>Mjob_health</th>\n",
       "      <th>Mjob_other</th>\n",
       "      <th>Mjob_services</th>\n",
       "      <th>Mjob_teacher</th>\n",
       "      <th>Fjob_at_home</th>\n",
       "      <th>Fjob_health</th>\n",
       "      <th>Fjob_other</th>\n",
       "      <th>Fjob_services</th>\n",
       "      <th>Fjob_teacher</th>\n",
       "      <th>reason_course</th>\n",
       "      <th>reason_home</th>\n",
       "      <th>reason_other</th>\n",
       "      <th>reason_reputation</th>\n",
       "      <th>guardian_father</th>\n",
       "      <th>guardian_mother</th>\n",
       "      <th>guardian_other</th>\n",
       "    </tr>\n",
       "  </thead>\n",
       "  <tbody>\n",
       "    <tr>\n",
       "      <th>0</th>\n",
       "      <td>100097</td>\n",
       "      <td>0</td>\n",
       "      <td>0</td>\n",
       "      <td>0</td>\n",
       "      <td>16</td>\n",
       "      <td>0</td>\n",
       "      <td>0</td>\n",
       "      <td>1</td>\n",
       "      <td>3</td>\n",
       "      <td>4</td>\n",
       "      <td>1</td>\n",
       "      <td>1</td>\n",
       "      <td>0</td>\n",
       "      <td>0</td>\n",
       "      <td>1</td>\n",
       "      <td>0</td>\n",
       "      <td>0</td>\n",
       "      <td>0</td>\n",
       "      <td>0</td>\n",
       "      <td>0</td>\n",
       "      <td>0</td>\n",
       "      <td>3</td>\n",
       "      <td>2</td>\n",
       "      <td>1</td>\n",
       "      <td>1</td>\n",
       "      <td>4</td>\n",
       "      <td>5</td>\n",
       "      <td>12</td>\n",
       "      <td>15</td>\n",
       "      <td>13</td>\n",
       "      <td>14</td>\n",
       "      <td>0</td>\n",
       "      <td>0</td>\n",
       "      <td>0</td>\n",
       "      <td>1</td>\n",
       "      <td>0</td>\n",
       "      <td>0</td>\n",
       "      <td>0</td>\n",
       "      <td>1</td>\n",
       "      <td>0</td>\n",
       "      <td>0</td>\n",
       "      <td>1</td>\n",
       "      <td>0</td>\n",
       "      <td>0</td>\n",
       "      <td>0</td>\n",
       "      <td>1</td>\n",
       "      <td>0</td>\n",
       "      <td>0</td>\n",
       "    </tr>\n",
       "    <tr>\n",
       "      <th>1</th>\n",
       "      <td>101021</td>\n",
       "      <td>0</td>\n",
       "      <td>0</td>\n",
       "      <td>0</td>\n",
       "      <td>17</td>\n",
       "      <td>0</td>\n",
       "      <td>0</td>\n",
       "      <td>0</td>\n",
       "      <td>3</td>\n",
       "      <td>2</td>\n",
       "      <td>1</td>\n",
       "      <td>2</td>\n",
       "      <td>0</td>\n",
       "      <td>0</td>\n",
       "      <td>1</td>\n",
       "      <td>0</td>\n",
       "      <td>1</td>\n",
       "      <td>1</td>\n",
       "      <td>0</td>\n",
       "      <td>0</td>\n",
       "      <td>0</td>\n",
       "      <td>5</td>\n",
       "      <td>3</td>\n",
       "      <td>4</td>\n",
       "      <td>1</td>\n",
       "      <td>3</td>\n",
       "      <td>3</td>\n",
       "      <td>2</td>\n",
       "      <td>17</td>\n",
       "      <td>18</td>\n",
       "      <td>17</td>\n",
       "      <td>0</td>\n",
       "      <td>0</td>\n",
       "      <td>1</td>\n",
       "      <td>0</td>\n",
       "      <td>0</td>\n",
       "      <td>0</td>\n",
       "      <td>0</td>\n",
       "      <td>1</td>\n",
       "      <td>0</td>\n",
       "      <td>0</td>\n",
       "      <td>1</td>\n",
       "      <td>0</td>\n",
       "      <td>0</td>\n",
       "      <td>0</td>\n",
       "      <td>0</td>\n",
       "      <td>1</td>\n",
       "      <td>0</td>\n",
       "    </tr>\n",
       "    <tr>\n",
       "      <th>2</th>\n",
       "      <td>102965</td>\n",
       "      <td>0</td>\n",
       "      <td>0</td>\n",
       "      <td>1</td>\n",
       "      <td>16</td>\n",
       "      <td>0</td>\n",
       "      <td>1</td>\n",
       "      <td>0</td>\n",
       "      <td>1</td>\n",
       "      <td>2</td>\n",
       "      <td>2</td>\n",
       "      <td>1</td>\n",
       "      <td>2</td>\n",
       "      <td>0</td>\n",
       "      <td>1</td>\n",
       "      <td>0</td>\n",
       "      <td>0</td>\n",
       "      <td>1</td>\n",
       "      <td>0</td>\n",
       "      <td>0</td>\n",
       "      <td>0</td>\n",
       "      <td>4</td>\n",
       "      <td>4</td>\n",
       "      <td>5</td>\n",
       "      <td>3</td>\n",
       "      <td>5</td>\n",
       "      <td>5</td>\n",
       "      <td>0</td>\n",
       "      <td>9</td>\n",
       "      <td>8</td>\n",
       "      <td>10</td>\n",
       "      <td>0</td>\n",
       "      <td>1</td>\n",
       "      <td>0</td>\n",
       "      <td>0</td>\n",
       "      <td>0</td>\n",
       "      <td>0</td>\n",
       "      <td>0</td>\n",
       "      <td>0</td>\n",
       "      <td>1</td>\n",
       "      <td>0</td>\n",
       "      <td>1</td>\n",
       "      <td>0</td>\n",
       "      <td>0</td>\n",
       "      <td>0</td>\n",
       "      <td>0</td>\n",
       "      <td>1</td>\n",
       "      <td>0</td>\n",
       "    </tr>\n",
       "    <tr>\n",
       "      <th>3</th>\n",
       "      <td>102989</td>\n",
       "      <td>0</td>\n",
       "      <td>1</td>\n",
       "      <td>1</td>\n",
       "      <td>17</td>\n",
       "      <td>0</td>\n",
       "      <td>0</td>\n",
       "      <td>0</td>\n",
       "      <td>2</td>\n",
       "      <td>3</td>\n",
       "      <td>2</td>\n",
       "      <td>2</td>\n",
       "      <td>0</td>\n",
       "      <td>0</td>\n",
       "      <td>1</td>\n",
       "      <td>0</td>\n",
       "      <td>1</td>\n",
       "      <td>0</td>\n",
       "      <td>0</td>\n",
       "      <td>0</td>\n",
       "      <td>0</td>\n",
       "      <td>4</td>\n",
       "      <td>4</td>\n",
       "      <td>3</td>\n",
       "      <td>1</td>\n",
       "      <td>1</td>\n",
       "      <td>3</td>\n",
       "      <td>4</td>\n",
       "      <td>14</td>\n",
       "      <td>15</td>\n",
       "      <td>16</td>\n",
       "      <td>0</td>\n",
       "      <td>0</td>\n",
       "      <td>1</td>\n",
       "      <td>0</td>\n",
       "      <td>0</td>\n",
       "      <td>0</td>\n",
       "      <td>0</td>\n",
       "      <td>0</td>\n",
       "      <td>1</td>\n",
       "      <td>0</td>\n",
       "      <td>0</td>\n",
       "      <td>1</td>\n",
       "      <td>0</td>\n",
       "      <td>0</td>\n",
       "      <td>1</td>\n",
       "      <td>0</td>\n",
       "      <td>0</td>\n",
       "    </tr>\n",
       "    <tr>\n",
       "      <th>4</th>\n",
       "      <td>103131</td>\n",
       "      <td>0</td>\n",
       "      <td>0</td>\n",
       "      <td>0</td>\n",
       "      <td>16</td>\n",
       "      <td>0</td>\n",
       "      <td>0</td>\n",
       "      <td>0</td>\n",
       "      <td>1</td>\n",
       "      <td>1</td>\n",
       "      <td>2</td>\n",
       "      <td>1</td>\n",
       "      <td>0</td>\n",
       "      <td>0</td>\n",
       "      <td>0</td>\n",
       "      <td>0</td>\n",
       "      <td>0</td>\n",
       "      <td>0</td>\n",
       "      <td>0</td>\n",
       "      <td>1</td>\n",
       "      <td>0</td>\n",
       "      <td>4</td>\n",
       "      <td>3</td>\n",
       "      <td>2</td>\n",
       "      <td>1</td>\n",
       "      <td>4</td>\n",
       "      <td>5</td>\n",
       "      <td>2</td>\n",
       "      <td>12</td>\n",
       "      <td>13</td>\n",
       "      <td>13</td>\n",
       "      <td>1</td>\n",
       "      <td>0</td>\n",
       "      <td>0</td>\n",
       "      <td>0</td>\n",
       "      <td>0</td>\n",
       "      <td>0</td>\n",
       "      <td>0</td>\n",
       "      <td>1</td>\n",
       "      <td>0</td>\n",
       "      <td>0</td>\n",
       "      <td>0</td>\n",
       "      <td>1</td>\n",
       "      <td>0</td>\n",
       "      <td>0</td>\n",
       "      <td>0</td>\n",
       "      <td>1</td>\n",
       "      <td>0</td>\n",
       "    </tr>\n",
       "  </tbody>\n",
       "</table>\n",
       "</div>"
      ],
      "text/plain": [
       "       ID  Subject  school  sex  age  address  famsize  Pstatus  Medu  Fedu  \\\n",
       "0  100097  0        0       0    16   0        0        1        3     4      \n",
       "1  101021  0        0       0    17   0        0        0        3     2      \n",
       "2  102965  0        0       1    16   0        1        0        1     2      \n",
       "3  102989  0        1       1    17   0        0        0        2     3      \n",
       "4  103131  0        0       0    16   0        0        0        1     1      \n",
       "\n",
       "   traveltime  studytime  failures  schoolsup  famsup  paid  activities  \\\n",
       "0  1           1          0         0          1       0     0            \n",
       "1  1           2          0         0          1       0     1            \n",
       "2  2           1          2         0          1       0     0            \n",
       "3  2           2          0         0          1       0     1            \n",
       "4  2           1          0         0          0       0     0            \n",
       "\n",
       "   nursery  higher  internet  romantic  famrel  freetime  goout  Dalc  Walc  \\\n",
       "0  0        0       0         0         3       2         1      1     4      \n",
       "1  1        0       0         0         5       3         4      1     3      \n",
       "2  1        0       0         0         4       4         5      3     5      \n",
       "3  0        0       0         0         4       4         3      1     1      \n",
       "4  0        0       1         0         4       3         2      1     4      \n",
       "\n",
       "   health  absences  G1  G2  G3  Mjob_at_home  Mjob_health  Mjob_other  \\\n",
       "0  5       12        15  13  14  0             0            0            \n",
       "1  3       2         17  18  17  0             0            1            \n",
       "2  5       0         9   8   10  0             1            0            \n",
       "3  3       4         14  15  16  0             0            1            \n",
       "4  5       2         12  13  13  1             0            0            \n",
       "\n",
       "   Mjob_services  Mjob_teacher  Fjob_at_home  Fjob_health  Fjob_other  \\\n",
       "0  1              0             0             0            1            \n",
       "1  0              0             0             0            1            \n",
       "2  0              0             0             0            0            \n",
       "3  0              0             0             0            0            \n",
       "4  0              0             0             0            1            \n",
       "\n",
       "   Fjob_services  Fjob_teacher  reason_course  reason_home  reason_other  \\\n",
       "0  0              0             1              0            0              \n",
       "1  0              0             1              0            0              \n",
       "2  1              0             1              0            0              \n",
       "3  1              0             0              1            0              \n",
       "4  0              0             0              1            0              \n",
       "\n",
       "   reason_reputation  guardian_father  guardian_mother  guardian_other  \n",
       "0  0                  1                0                0               \n",
       "1  0                  0                1                0               \n",
       "2  0                  0                1                0               \n",
       "3  0                  1                0                0               \n",
       "4  0                  0                1                0               "
      ]
     },
     "execution_count": 276,
     "metadata": {},
     "output_type": "execute_result"
    }
   ],
   "source": [
    "# Сбор данных в один датафрейм\n",
    "\n",
    "data = data.drop(('Mjob'), axis=1)\n",
    "data = data.drop(('Fjob'), axis=1)\n",
    "data = data.drop(('reason'), axis=1)\n",
    "data = data.drop(('guardian'), axis=1)\n",
    "data = pd.concat((data, data_nonbinary), axis=1)\n",
    "data = pd.DataFrame(data, dtype = int)\n",
    "\n",
    "data.head()"
   ]
  },
  {
   "cell_type": "markdown",
   "metadata": {},
   "source": [
    "## Задание 2"
   ]
  },
  {
   "cell_type": "markdown",
   "metadata": {},
   "source": [
    "Теперь нужно рассмотреть распределение оценок (G1, G2, G3) для разных предметов. "
   ]
  },
  {
   "cell_type": "code",
   "execution_count": 277,
   "metadata": {},
   "outputs": [
    {
     "data": {
      "image/png": "[encoded data removed]",
      "text/plain": [
       "<matplotlib.figure.Figure at 0x1a20657550>"
      ]
     },
     "metadata": {},
     "output_type": "display_data"
    }
   ],
   "source": [
    "# Plot of marks for Portogese \n",
    "data[data['Subject'] == 0]['G1'].plot(kind='kde', c='red')\n",
    "data[data['Subject'] == 0]['G2'].plot(kind='kde', c='blue')\n",
    "data[data['Subject'] == 0]['G3'].plot(kind='kde', c='black')\n",
    "\n",
    "plt.show()"
   ]
  },
  {
   "cell_type": "markdown",
   "metadata": {},
   "source": [
    "По данному графику можно сделать вывод, что в течение всего года оценки за `Португальский язык` сильно не менялись и оставались в районе `10-12`. Исключение составил только второй семестр и итоговая оценка. Так как во втором семестре начали появляться `0`, то данная оценка смогла повлиять на итоговую оценку. В результате некоторые ученики получили оценку `0` за португальский язык "
   ]
  },
  {
   "cell_type": "code",
   "execution_count": 278,
   "metadata": {},
   "outputs": [
    {
     "data": {
      "image/png": "[encoded data removed]",
      "text/plain": [
       "<matplotlib.figure.Figure at 0x1a202828d0>"
      ]
     },
     "metadata": {},
     "output_type": "display_data"
    }
   ],
   "source": [
    "# Plot of marks for Math\n",
    "data[data['Subject'] == 1]['G1'].plot(kind='kde', c='red')\n",
    "data[data['Subject'] == 1]['G2'].plot(kind='kde', c='blue')\n",
    "data[data['Subject'] == 1]['G3'].plot(kind='kde', c='black')\n",
    "\n",
    "plt.show()"
   ]
  },
  {
   "cell_type": "markdown",
   "metadata": {},
   "source": [
    "На этом же графике видно, что средняя оценка за весь период обучения по предмету `Математика` сместилась ближе к нулю и стала равна уже `9-11`. Также можно заметить, что во втором семестре больше учеников получали  `0` за данный предмет, что говорит о том, что итог  `0` вышел больше у учеников с предметом `Математика`, чем `Португальский язык`"
   ]
  },
  {
   "cell_type": "markdown",
   "metadata": {},
   "source": [
    "## Задание 3"
   ]
  },
  {
   "cell_type": "markdown",
   "metadata": {},
   "source": [
    "Теперь нужно определить зависимость итоговой оценки (`G3`) от след признаков: `Пола`,`Времени в пути от дома до школы`,`Наличия дополнительной помощи в учебе (от членов семьи или вообще)`, `Посещения платных дополнительных занятий`,`Наличия интернета`,`Наличия романтических отношений`, `Потребления алкоголя`. Для этого мы будем использовать таблицу корелляции Пирсона"
   ]
  },
  {
   "cell_type": "code",
   "execution_count": 279,
   "metadata": {},
   "outputs": [
    {
     "data": {
      "text/html": [
       "<div>\n",
       "<style scoped>\n",
       "    .dataframe tbody tr th:only-of-type {\n",
       "        vertical-align: middle;\n",
       "    }\n",
       "\n",
       "    .dataframe tbody tr th {\n",
       "        vertical-align: top;\n",
       "    }\n",
       "\n",
       "    .dataframe thead th {\n",
       "        text-align: right;\n",
       "    }\n",
       "</style>\n",
       "<table border=\"1\" class=\"dataframe\">\n",
       "  <thead>\n",
       "    <tr style=\"text-align: right;\">\n",
       "      <th></th>\n",
       "      <th>G3</th>\n",
       "      <th>sex</th>\n",
       "      <th>traveltime</th>\n",
       "      <th>schoolsup</th>\n",
       "      <th>famsup</th>\n",
       "      <th>paid</th>\n",
       "      <th>internet</th>\n",
       "      <th>romantic</th>\n",
       "      <th>Dalc</th>\n",
       "      <th>Walc</th>\n",
       "    </tr>\n",
       "  </thead>\n",
       "  <tbody>\n",
       "    <tr>\n",
       "      <th>G3</th>\n",
       "      <td>1.000000</td>\n",
       "      <td>-0.031472</td>\n",
       "      <td>-0.102627</td>\n",
       "      <td>-0.079346</td>\n",
       "      <td>-0.013313</td>\n",
       "      <td>-0.049388</td>\n",
       "      <td>-0.107064</td>\n",
       "      <td>-0.098363</td>\n",
       "      <td>-0.129642</td>\n",
       "      <td>-0.115740</td>\n",
       "    </tr>\n",
       "    <tr>\n",
       "      <th>sex</th>\n",
       "      <td>-0.031472</td>\n",
       "      <td>1.000000</td>\n",
       "      <td>0.042508</td>\n",
       "      <td>-0.119411</td>\n",
       "      <td>0.137696</td>\n",
       "      <td>-0.002179</td>\n",
       "      <td>-0.062671</td>\n",
       "      <td>-0.108944</td>\n",
       "      <td>0.275928</td>\n",
       "      <td>0.302623</td>\n",
       "    </tr>\n",
       "    <tr>\n",
       "      <th>traveltime</th>\n",
       "      <td>-0.102627</td>\n",
       "      <td>0.042508</td>\n",
       "      <td>1.000000</td>\n",
       "      <td>-0.033940</td>\n",
       "      <td>0.026117</td>\n",
       "      <td>-0.083679</td>\n",
       "      <td>0.169485</td>\n",
       "      <td>0.013603</td>\n",
       "      <td>0.109423</td>\n",
       "      <td>0.084292</td>\n",
       "    </tr>\n",
       "    <tr>\n",
       "      <th>schoolsup</th>\n",
       "      <td>-0.079346</td>\n",
       "      <td>-0.119411</td>\n",
       "      <td>-0.033940</td>\n",
       "      <td>1.000000</td>\n",
       "      <td>-0.086945</td>\n",
       "      <td>0.021606</td>\n",
       "      <td>0.016827</td>\n",
       "      <td>-0.089979</td>\n",
       "      <td>-0.025852</td>\n",
       "      <td>-0.093517</td>\n",
       "    </tr>\n",
       "    <tr>\n",
       "      <th>famsup</th>\n",
       "      <td>-0.013313</td>\n",
       "      <td>0.137696</td>\n",
       "      <td>0.026117</td>\n",
       "      <td>-0.086945</td>\n",
       "      <td>1.000000</td>\n",
       "      <td>-0.169424</td>\n",
       "      <td>0.082522</td>\n",
       "      <td>0.009997</td>\n",
       "      <td>0.022275</td>\n",
       "      <td>0.073596</td>\n",
       "    </tr>\n",
       "    <tr>\n",
       "      <th>paid</th>\n",
       "      <td>-0.049388</td>\n",
       "      <td>-0.002179</td>\n",
       "      <td>-0.083679</td>\n",
       "      <td>0.021606</td>\n",
       "      <td>-0.169424</td>\n",
       "      <td>1.000000</td>\n",
       "      <td>-0.114189</td>\n",
       "      <td>-0.020512</td>\n",
       "      <td>0.041919</td>\n",
       "      <td>0.042812</td>\n",
       "    </tr>\n",
       "    <tr>\n",
       "      <th>internet</th>\n",
       "      <td>-0.107064</td>\n",
       "      <td>-0.062671</td>\n",
       "      <td>0.169485</td>\n",
       "      <td>0.016827</td>\n",
       "      <td>0.082522</td>\n",
       "      <td>-0.114189</td>\n",
       "      <td>1.000000</td>\n",
       "      <td>-0.049882</td>\n",
       "      <td>-0.039511</td>\n",
       "      <td>-0.043615</td>\n",
       "    </tr>\n",
       "    <tr>\n",
       "      <th>romantic</th>\n",
       "      <td>-0.098363</td>\n",
       "      <td>-0.108944</td>\n",
       "      <td>0.013603</td>\n",
       "      <td>-0.089979</td>\n",
       "      <td>0.009997</td>\n",
       "      <td>-0.020512</td>\n",
       "      <td>-0.049882</td>\n",
       "      <td>1.000000</td>\n",
       "      <td>0.045311</td>\n",
       "      <td>-0.016426</td>\n",
       "    </tr>\n",
       "    <tr>\n",
       "      <th>Dalc</th>\n",
       "      <td>-0.129642</td>\n",
       "      <td>0.275928</td>\n",
       "      <td>0.109423</td>\n",
       "      <td>-0.025852</td>\n",
       "      <td>0.022275</td>\n",
       "      <td>0.041919</td>\n",
       "      <td>-0.039511</td>\n",
       "      <td>0.045311</td>\n",
       "      <td>1.000000</td>\n",
       "      <td>0.627814</td>\n",
       "    </tr>\n",
       "    <tr>\n",
       "      <th>Walc</th>\n",
       "      <td>-0.115740</td>\n",
       "      <td>0.302623</td>\n",
       "      <td>0.084292</td>\n",
       "      <td>-0.093517</td>\n",
       "      <td>0.073596</td>\n",
       "      <td>0.042812</td>\n",
       "      <td>-0.043615</td>\n",
       "      <td>-0.016426</td>\n",
       "      <td>0.627814</td>\n",
       "      <td>1.000000</td>\n",
       "    </tr>\n",
       "  </tbody>\n",
       "</table>\n",
       "</div>"
      ],
      "text/plain": [
       "                  G3       sex  traveltime  schoolsup    famsup      paid  \\\n",
       "G3          1.000000 -0.031472 -0.102627   -0.079346  -0.013313 -0.049388   \n",
       "sex        -0.031472  1.000000  0.042508   -0.119411   0.137696 -0.002179   \n",
       "traveltime -0.102627  0.042508  1.000000   -0.033940   0.026117 -0.083679   \n",
       "schoolsup  -0.079346 -0.119411 -0.033940    1.000000  -0.086945  0.021606   \n",
       "famsup     -0.013313  0.137696  0.026117   -0.086945   1.000000 -0.169424   \n",
       "paid       -0.049388 -0.002179 -0.083679    0.021606  -0.169424  1.000000   \n",
       "internet   -0.107064 -0.062671  0.169485    0.016827   0.082522 -0.114189   \n",
       "romantic   -0.098363 -0.108944  0.013603   -0.089979   0.009997 -0.020512   \n",
       "Dalc       -0.129642  0.275928  0.109423   -0.025852   0.022275  0.041919   \n",
       "Walc       -0.115740  0.302623  0.084292   -0.093517   0.073596  0.042812   \n",
       "\n",
       "            internet  romantic      Dalc      Walc  \n",
       "G3         -0.107064 -0.098363 -0.129642 -0.115740  \n",
       "sex        -0.062671 -0.108944  0.275928  0.302623  \n",
       "traveltime  0.169485  0.013603  0.109423  0.084292  \n",
       "schoolsup   0.016827 -0.089979 -0.025852 -0.093517  \n",
       "famsup      0.082522  0.009997  0.022275  0.073596  \n",
       "paid       -0.114189 -0.020512  0.041919  0.042812  \n",
       "internet    1.000000 -0.049882 -0.039511 -0.043615  \n",
       "romantic   -0.049882  1.000000  0.045311 -0.016426  \n",
       "Dalc       -0.039511  0.045311  1.000000  0.627814  \n",
       "Walc       -0.043615 -0.016426  0.627814  1.000000  "
      ]
     },
     "execution_count": 279,
     "metadata": {},
     "output_type": "execute_result"
    }
   ],
   "source": [
    "colnames = ['G3', 'sex', 'traveltime', 'schoolsup', 'famsup', 'paid', 'internet', 'romantic', 'Dalc', 'Walc']\n",
    "data[colnames].corr()"
   ]
  },
  {
   "cell_type": "markdown",
   "metadata": {},
   "source": [
    "По данной таблицы можно заметить, что итоговая оценка не с кем сильно не коррелирует (нет сильной зависимости). Если посмотреть внимательно, то самый высокий коэффициент корреляции достигается у `G3` с `Dalc` (~0.12). Также можно заметить, что отсальные признаки также не сильно коррелируют между собой, коэффициент корреляции ни у какого признака не превосходит и 50%. Также для наглядности можно приветсти отрисовку матрицы корреляции"
   ]
  },
  {
   "cell_type": "code",
   "execution_count": 333,
   "metadata": {},
   "outputs": [
    {
     "data": {
      "image/png": "[encoded data removed]",
      "text/plain": [
       "<matplotlib.figure.Figure at 0x1a1f455710>"
      ]
     },
     "metadata": {},
     "output_type": "display_data"
    }
   ],
   "source": [
    "import seaborn as sns\n",
    "\n",
    "sns.heatmap(data[colnames].corr())\n",
    "plt.show()"
   ]
  },
  {
   "cell_type": "markdown",
   "metadata": {},
   "source": [
    "## Задание 4"
   ]
  },
  {
   "cell_type": "markdown",
   "metadata": {},
   "source": [
    "Теперь необходимо оценить распределение признака `reason` в зависимости от оценки по 4 балльной шкале. То есть можно сейчас не отрисовывать графки плостности для каждого из признака, а просто найти среднее значение вектора оценок для каждой из причины выбора школы, то есть:"
   ]
  },
  {
   "cell_type": "code",
   "execution_count": 280,
   "metadata": {},
   "outputs": [
    {
     "name": "stdout",
     "output_type": "stream",
     "text": [
      "Reason - near home: 11.368217054263566\n",
      "Reason - good courses: 10.965116279069768\n",
      "Reason - good reputation: 12.181451612903226\n",
      "Reason - other reasons: 10.851851851851851\n"
     ]
    }
   ],
   "source": [
    "print('Reason - near home:', data[data['reason_home'] == 1]['G3'].mean())\n",
    "print('Reason - good courses:', data[data['reason_course'] == 1]['G3'].mean())\n",
    "print('Reason - good reputation:', data[data['reason_reputation'] == 1]['G3'].mean())\n",
    "print('Reason - other reasons:', data[data['reason_other'] == 1]['G3'].mean())"
   ]
  },
  {
   "cell_type": "markdown",
   "metadata": {},
   "source": [
    "По этим результатам можно сделать вывод, что несмотря на то, какую причину выбора школы преследовали родители ученика (или сам ученик), средняя итоговая оценка по 4х бальной шкале равна `Удовлитворительно` "
   ]
  },
  {
   "cell_type": "markdown",
   "metadata": {},
   "source": [
    "# Вторая часть. Машинное обучение"
   ]
  },
  {
   "cell_type": "markdown",
   "metadata": {},
   "source": [
    "## Задание 1. Регрессия"
   ]
  },
  {
   "cell_type": "markdown",
   "metadata": {},
   "source": [
    "## С использованием признака 'G1'"
   ]
  },
  {
   "cell_type": "markdown",
   "metadata": {},
   "source": [
    "Для начала еще чуточку подготовим наши данные, а именно разделим их на обучающую и тестовую выборку"
   ]
  },
  {
   "cell_type": "code",
   "execution_count": 281,
   "metadata": {},
   "outputs": [],
   "source": [
    "cols = ['G2', 'G3']\n",
    "X = data.drop(cols, axis=1)\n",
    "y = data['G3'][:]\n",
    "\n",
    "X_train, X_test, y_train, y_test = train_test_split(X, y, test_size=0.3, random_state=11)"
   ]
  },
  {
   "cell_type": "markdown",
   "metadata": {},
   "source": [
    "А также сделаем импорт необходимых библиотек"
   ]
  },
  {
   "cell_type": "code",
   "execution_count": 282,
   "metadata": {},
   "outputs": [],
   "source": [
    "from sklearn.linear_model import LinearRegression, Lasso, Ridge\n",
    "from sklearn.metrics import mean_squared_error, r2_score\n",
    "from sklearn.neighbors import KNeighborsRegressor\n",
    "from sklearn.model_selection import GridSearchCV\n",
    "from sklearn.model_selection import cross_val_score"
   ]
  },
  {
   "cell_type": "markdown",
   "metadata": {},
   "source": [
    "### Линейная регрессия"
   ]
  },
  {
   "cell_type": "markdown",
   "metadata": {},
   "source": [
    "Начнем с того, что используем простую линейную регрессию и посчитаем для нее среднеквадратичную ошибку"
   ]
  },
  {
   "cell_type": "code",
   "execution_count": 283,
   "metadata": {},
   "outputs": [
    {
     "name": "stdout",
     "output_type": "stream",
     "text": [
      "Коэффициент детерминации: 0.6494051223440286\n"
     ]
    }
   ],
   "source": [
    "linear_model = LinearRegression()\n",
    "linear_model.fit(X_train, y_train)\n",
    "\n",
    "y_pred = linear_model.predict(X_test)\n",
    "\n",
    "error = r2_score(y_test, y_pred)\n",
    "print('Коэффициент детерминации:', error)"
   ]
  },
  {
   "cell_type": "markdown",
   "metadata": {},
   "source": [
    "На тестовой выборке на кросс-валидации мы получили следующие результаты"
   ]
  },
  {
   "cell_type": "code",
   "execution_count": 284,
   "metadata": {},
   "outputs": [
    {
     "name": "stdout",
     "output_type": "stream",
     "text": [
      "Average value on cross-validation: 0.6505070257158012\n"
     ]
    }
   ],
   "source": [
    "scores = cross_val_score(linear_model, X_train, y_train, cv=5,\n",
    "                        scoring='r2')\n",
    "print('Average value on cross-validation:', scores.mean())"
   ]
  },
  {
   "cell_type": "markdown",
   "metadata": {},
   "source": [
    "### Lasso regression"
   ]
  },
  {
   "cell_type": "markdown",
   "metadata": {},
   "source": [
    "Теперь же возьмем `Lasso` регрессию. Данный алгоритм в дополнение еще сам произведет `feature selection`. Я буду его комбинировать с функций `GridSearchCV`, которая подбирает оптимальные параметры для алгоритма, в данном случае параметр `alpha`"
   ]
  },
  {
   "cell_type": "code",
   "execution_count": 285,
   "metadata": {},
   "outputs": [
    {
     "data": {
      "text/plain": [
       "Lasso(alpha=0.1, copy_X=True, fit_intercept=True, max_iter=1000,\n",
       "   normalize=False, positive=False, precompute=False, random_state=None,\n",
       "   selection='cyclic', tol=0.0001, warm_start=False)"
      ]
     },
     "execution_count": 285,
     "metadata": {},
     "output_type": "execute_result"
    }
   ],
   "source": [
    "params = {'alpha': [0.1, 0.2, 0.3, 0.4, 0.5, 0.6, 0.7, 0.8, 0.9, 1]}\n",
    "lasso_model = Lasso()\n",
    "clf = GridSearchCV(lasso_model, params)\n",
    "clf.fit(X_train, y_train)\n",
    "# Получим наши оптимально подобранные параметры\n",
    "clf.best_estimator_"
   ]
  },
  {
   "cell_type": "markdown",
   "metadata": {},
   "source": [
    "Теперь проверим модель на кросс-валидации"
   ]
  },
  {
   "cell_type": "code",
   "execution_count": 286,
   "metadata": {},
   "outputs": [
    {
     "name": "stdout",
     "output_type": "stream",
     "text": [
      "Average value on cross-validation: 0.6647428972696602\n"
     ]
    }
   ],
   "source": [
    "scores = cross_val_score(clf, X_train, y_train, cv=5,\n",
    "                        scoring='r2')\n",
    "print('Average value on cross-validation:', scores.mean())"
   ]
  },
  {
   "cell_type": "code",
   "execution_count": 287,
   "metadata": {},
   "outputs": [
    {
     "name": "stdout",
     "output_type": "stream",
     "text": [
      "Коэффициент детерминации:  0.6680204156741463\n"
     ]
    }
   ],
   "source": [
    "lassp_model = Lasso(alpha=0.1, max_iter=1000, selection='cyclic', tol=0.0001)\n",
    "lasso_model.fit(X_train, y_train)\n",
    "y_pred = lasso_model.predict(X_test)\n",
    "\n",
    "error = r2_score(y_test, y_pred)\n",
    "print('Коэффициент детерминации: ', error)"
   ]
  },
  {
   "cell_type": "markdown",
   "metadata": {},
   "source": [
    "### Ridge regression"
   ]
  },
  {
   "cell_type": "markdown",
   "metadata": {},
   "source": [
    "Теперь используем другую регрессию и подберем для нее параметры"
   ]
  },
  {
   "cell_type": "code",
   "execution_count": 288,
   "metadata": {},
   "outputs": [
    {
     "data": {
      "text/plain": [
       "Ridge(alpha=10, copy_X=True, fit_intercept=True, max_iter=None,\n",
       "   normalize=False, random_state=None, solver='svd', tol=0.001)"
      ]
     },
     "execution_count": 288,
     "metadata": {},
     "output_type": "execute_result"
    }
   ],
   "source": [
    "k = [0.1, 0.2, 0.3, 0.4, 0.5, 0.6, 0.7, 0.8, 0.9, 1, 1.2, 1.3, 1.4, 1.5, 1.6, 10]\n",
    "params = {'alpha': k, 'solver': ['auto', 'svd', 'cholesky', 'lsqr', 'sparse_cg', 'sag', 'saga']}\n",
    "ridge_model = Ridge()\n",
    "clf = GridSearchCV(ridge_model, params)\n",
    "clf.fit(X_train, y_train)\n",
    "clf.best_estimator_"
   ]
  },
  {
   "cell_type": "code",
   "execution_count": 289,
   "metadata": {},
   "outputs": [
    {
     "name": "stdout",
     "output_type": "stream",
     "text": [
      "Коэффициент детерминации:  0.6542508568221654\n"
     ]
    }
   ],
   "source": [
    "ridge_model = Ridge(alpha=10, solver='svd', tol=0.001)\n",
    "ridge_model.fit(X_train, y_train)\n",
    "y_pred = ridge_model.predict(X_test)\n",
    "\n",
    "error = r2_score(y_test, y_pred)\n",
    "print('Коэффициент детерминации: ', error)"
   ]
  },
  {
   "cell_type": "code",
   "execution_count": 290,
   "metadata": {},
   "outputs": [
    {
     "name": "stdout",
     "output_type": "stream",
     "text": [
      "Average value on cross-validation: 0.6551156467265287\n"
     ]
    }
   ],
   "source": [
    "scores = cross_val_score(ridge_model, X_train, y_train, cv=5,\n",
    "                        scoring='r2')\n",
    "print('Average value on cross-validation:', scores.mean())"
   ]
  },
  {
   "cell_type": "markdown",
   "metadata": {},
   "source": [
    "### KNeighborsRegression"
   ]
  },
  {
   "cell_type": "code",
   "execution_count": 291,
   "metadata": {},
   "outputs": [
    {
     "data": {
      "text/plain": [
       "KNeighborsRegressor(algorithm='auto', leaf_size=30, metric='minkowski',\n",
       "          metric_params=None, n_jobs=1, n_neighbors=18, p=2,\n",
       "          weights='uniform')"
      ]
     },
     "execution_count": 291,
     "metadata": {},
     "output_type": "execute_result"
    }
   ],
   "source": [
    "params = {'n_neighbors': range(1,20), 'algorithm': ['auto', 'ball_tree', 'kd_tree', 'brute']}\n",
    "knn_model = KNeighborsRegressor()\n",
    "clf = GridSearchCV(knn_model, params)\n",
    "clf.fit(X_train, y_train)\n",
    "clf.best_estimator_"
   ]
  },
  {
   "cell_type": "code",
   "execution_count": 292,
   "metadata": {},
   "outputs": [
    {
     "name": "stdout",
     "output_type": "stream",
     "text": [
      "Коэффициент детерминации:  0.09644207316287834\n"
     ]
    }
   ],
   "source": [
    "knn_model = KNeighborsRegressor(n_neighbors=18)\n",
    "knn_model.fit(X_train, y_train)\n",
    "y_pred = knn_model.predict(X_test)\n",
    "\n",
    "error = r2_score(y_test, y_pred)\n",
    "print('Коэффициент детерминации: ', abs(error))"
   ]
  },
  {
   "cell_type": "code",
   "execution_count": 293,
   "metadata": {},
   "outputs": [
    {
     "name": "stdout",
     "output_type": "stream",
     "text": [
      "Average value on cross-validation: 0.04585457575201786\n"
     ]
    }
   ],
   "source": [
    "scores = cross_val_score(knn_model, X_train, y_train, cv=5,\n",
    "                        scoring='r2')\n",
    "print('Average value on cross-validation:', abs(scores).mean())"
   ]
  },
  {
   "cell_type": "markdown",
   "metadata": {},
   "source": [
    "## Без использования признака 'G1'"
   ]
  },
  {
   "cell_type": "markdown",
   "metadata": {},
   "source": [
    "Уберем из наших данных признаки `G1`, `G2`, `G3`"
   ]
  },
  {
   "cell_type": "code",
   "execution_count": 294,
   "metadata": {},
   "outputs": [],
   "source": [
    "cols = ['G1', 'G2', 'G3']\n",
    "X = data.drop(cols, axis=1)\n",
    "y = data['G3'][:]\n",
    "\n",
    "X_train, X_test, y_train, y_test = train_test_split(X, y, test_size=0.3, random_state=11)"
   ]
  },
  {
   "cell_type": "markdown",
   "metadata": {},
   "source": [
    "### Линейная регрессия"
   ]
  },
  {
   "cell_type": "code",
   "execution_count": 295,
   "metadata": {},
   "outputs": [
    {
     "name": "stdout",
     "output_type": "stream",
     "text": [
      "Коэффициент детерминации: 0.14117774992745236\n"
     ]
    }
   ],
   "source": [
    "linear_without_g1_model = LinearRegression()\n",
    "linear_without_g1_model.fit(X_train, y_train)\n",
    "\n",
    "y_pred = linear_without_g1_model.predict(X_test)\n",
    "\n",
    "error = r2_score(y_test, y_pred)\n",
    "print('Коэффициент детерминации:', error)"
   ]
  },
  {
   "cell_type": "code",
   "execution_count": 296,
   "metadata": {},
   "outputs": [
    {
     "name": "stdout",
     "output_type": "stream",
     "text": [
      "Average value on cross-validation: 0.21742979482322666\n"
     ]
    }
   ],
   "source": [
    "scores = cross_val_score(linear_without_g1_model, X_train, y_train, cv=5,\n",
    "                        scoring='r2')\n",
    "print('Average value on cross-validation:', scores.mean())"
   ]
  },
  {
   "cell_type": "markdown",
   "metadata": {},
   "source": [
    "### Lasso regression"
   ]
  },
  {
   "cell_type": "code",
   "execution_count": 297,
   "metadata": {},
   "outputs": [
    {
     "data": {
      "text/plain": [
       "Lasso(alpha=0.1, copy_X=True, fit_intercept=True, max_iter=1000,\n",
       "   normalize=False, positive=False, precompute=False, random_state=None,\n",
       "   selection='cyclic', tol=0.0001, warm_start=False)"
      ]
     },
     "execution_count": 297,
     "metadata": {},
     "output_type": "execute_result"
    }
   ],
   "source": [
    "params = {'alpha': [0.1, 0.2, 0.3, 0.4, 0.5, 0.6, 0.7, 0.8, 0.9, 1, 2, 3, 4]}\n",
    "lasso_withou_g1_model = Lasso()\n",
    "clf = GridSearchCV(lasso_withou_g1_model, params)\n",
    "clf.fit(X_train, y_train)\n",
    "# Получим наши оптимально подобранные параметры\n",
    "clf.best_estimator_"
   ]
  },
  {
   "cell_type": "code",
   "execution_count": 298,
   "metadata": {},
   "outputs": [
    {
     "name": "stdout",
     "output_type": "stream",
     "text": [
      "Average value on cross-validation: 0.2176091765514668\n"
     ]
    }
   ],
   "source": [
    "scores = cross_val_score(clf, X_train, y_train, cv=5,\n",
    "                        scoring='r2')\n",
    "print('Average value on cross-validation:', scores.mean())"
   ]
  },
  {
   "cell_type": "code",
   "execution_count": 299,
   "metadata": {},
   "outputs": [
    {
     "name": "stdout",
     "output_type": "stream",
     "text": [
      "Коэффициент детерминации:  0.1410526857472767\n"
     ]
    }
   ],
   "source": [
    "lasso_withou_g1_model = Lasso(alpha=0.1, max_iter=1000, selection='cyclic', tol=0.0001)\n",
    "lasso_withou_g1_model.fit(X_train, y_train)\n",
    "y_pred = lasso_withou_g1_model.predict(X_test)\n",
    "\n",
    "error = r2_score(y_test, y_pred)\n",
    "print('Коэффициент детерминации: ', error)"
   ]
  },
  {
   "cell_type": "markdown",
   "metadata": {},
   "source": [
    "### Ridge regression"
   ]
  },
  {
   "cell_type": "code",
   "execution_count": 300,
   "metadata": {},
   "outputs": [
    {
     "data": {
      "text/plain": [
       "Ridge(alpha=10, copy_X=True, fit_intercept=True, max_iter=None,\n",
       "   normalize=False, random_state=None, solver='auto', tol=0.001)"
      ]
     },
     "execution_count": 300,
     "metadata": {},
     "output_type": "execute_result"
    }
   ],
   "source": [
    "k = [0.1, 0.2, 0.3, 0.4, 0.5, 0.6, 0.7, 0.8, 0.9, 1, 1.2, 1.3, 1.4, 1.5, 1.6, 10]\n",
    "params = {'alpha': k, 'solver': ['auto', 'svd', 'cholesky', 'lsqr', 'sparse_cg', 'sag', 'saga']}\n",
    "ridge_without_g1_model = Ridge()\n",
    "clf = GridSearchCV(ridge_without_g1_model, params)\n",
    "clf.fit(X_train, y_train)\n",
    "clf.best_estimator_"
   ]
  },
  {
   "cell_type": "code",
   "execution_count": 301,
   "metadata": {},
   "outputs": [
    {
     "name": "stdout",
     "output_type": "stream",
     "text": [
      "Коэффициент детерминации:  0.15259043140204998\n"
     ]
    }
   ],
   "source": [
    "ridge_without_g1_model = Ridge(alpha=10, solver='auto', tol=0.001)\n",
    "ridge_without_g1_model.fit(X_train, y_train)\n",
    "y_pred = ridge_without_g1_model.predict(X_test)\n",
    "\n",
    "error = r2_score(y_test, y_pred)\n",
    "print('Коэффициент детерминации: ', error)"
   ]
  },
  {
   "cell_type": "code",
   "execution_count": 302,
   "metadata": {},
   "outputs": [
    {
     "name": "stdout",
     "output_type": "stream",
     "text": [
      "Average value on cross-validation: 0.22677366005249402\n"
     ]
    }
   ],
   "source": [
    "scores = cross_val_score(ridge_without_g1_model, X_train, y_train, cv=5,\n",
    "                        scoring='r2')\n",
    "print('Average value on cross-validation:', scores.mean())"
   ]
  },
  {
   "cell_type": "markdown",
   "metadata": {},
   "source": [
    "### KNeighborsRegression"
   ]
  },
  {
   "cell_type": "code",
   "execution_count": 303,
   "metadata": {},
   "outputs": [
    {
     "data": {
      "text/plain": [
       "KNeighborsRegressor(algorithm='auto', leaf_size=30, metric='minkowski',\n",
       "          metric_params=None, n_jobs=1, n_neighbors=18, p=2,\n",
       "          weights='uniform')"
      ]
     },
     "execution_count": 303,
     "metadata": {},
     "output_type": "execute_result"
    }
   ],
   "source": [
    "params = {'n_neighbors': range(1,20), 'algorithm': ['auto', 'ball_tree', 'kd_tree', 'brute']}\n",
    "knn_without_g1_model = KNeighborsRegressor()\n",
    "clf = GridSearchCV(knn_without_g1_model, params)\n",
    "clf.fit(X_train, y_train)\n",
    "clf.best_estimator_"
   ]
  },
  {
   "cell_type": "code",
   "execution_count": 304,
   "metadata": {},
   "outputs": [
    {
     "name": "stdout",
     "output_type": "stream",
     "text": [
      "Коэффициент детерминации:  0.09644207316287834\n"
     ]
    }
   ],
   "source": [
    "knn_without_g1_model = KNeighborsRegressor(n_neighbors=18)\n",
    "knn_without_g1_model.fit(X_train, y_train)\n",
    "y_pred = knn_without_g1_model.predict(X_test)\n",
    "\n",
    "error = r2_score(y_test, y_pred)\n",
    "print('Коэффициент детерминации: ', abs(error))"
   ]
  },
  {
   "cell_type": "code",
   "execution_count": 305,
   "metadata": {},
   "outputs": [
    {
     "data": {
      "text/plain": [
       "0.041698740509779994"
      ]
     },
     "execution_count": 305,
     "metadata": {},
     "output_type": "execute_result"
    }
   ],
   "source": [
    "scores = cross_val_score(knn_without_g1_model, X_train, y_train, cv=5,\n",
    "                        scoring='r2')\n",
    "abs(scores.mean())"
   ]
  },
  {
   "cell_type": "markdown",
   "metadata": {},
   "source": [
    "### Итог"
   ]
  },
  {
   "cell_type": "markdown",
   "metadata": {},
   "source": [
    "Если рассматривать регресиия с признаком `G1`, то максимальный коэффициент детерминации на кросс-валидации достигается у `Lasso regression` (~0.66). Если же рассматривать регрессию без участия признака `G1`, то наилучший рещультат дает алгоритм `Ridge regression` (~0.22)"
   ]
  },
  {
   "cell_type": "markdown",
   "metadata": {},
   "source": [
    "## Задание 2"
   ]
  },
  {
   "cell_type": "markdown",
   "metadata": {},
   "source": [
    "Для начала также сделаем импорт необходимых модулей из `sklearn`"
   ]
  },
  {
   "cell_type": "code",
   "execution_count": 306,
   "metadata": {},
   "outputs": [],
   "source": [
    "from sklearn.neighbors import KNeighborsClassifier\n",
    "from sklearn.linear_model import LogisticRegression\n",
    "from sklearn.tree import DecisionTreeClassifier\n",
    "from sklearn.metrics import recall_score, precision_score, confusion_matrix, f1_score, accuracy_score, classification_report"
   ]
  },
  {
   "cell_type": "markdown",
   "metadata": {},
   "source": [
    "А также преобразуем наши данные к такому виду, чтобы можно было произвести бинарную классификацию. Я преобразовал столбец `G3` к такому виду: <br> $G3 >= 8 - 1$ (ученик сдал предмет) <br> $G3 < 8 - -1$ (ученик не сдал предмет)"
   ]
  },
  {
   "cell_type": "code",
   "execution_count": 307,
   "metadata": {},
   "outputs": [],
   "source": [
    "cols = ['G1', 'G2', 'G3']\n",
    "X = data.drop(cols, axis=1)\n",
    "y = data['G3'][:]\n",
    "y = pd.Series(list(map(lambda x: 1 if x >= 8 else -1, y)))\n",
    "\n",
    "X_train, X_test, y_train, y_test = train_test_split(X, y, test_size=0.3, random_state=11)"
   ]
  },
  {
   "cell_type": "markdown",
   "metadata": {},
   "source": [
    "P.S. Будем использовать `scoring='f1'` как метрику для определения качества для бинарной классификации на кросс-валидации. Берем данную метрику, так как именно она нужна для определения качества бинарной классификации (взята из документации)"
   ]
  },
  {
   "cell_type": "markdown",
   "metadata": {},
   "source": [
    "### KNeighborsClassifier"
   ]
  },
  {
   "cell_type": "markdown",
   "metadata": {},
   "source": [
    "Для начала возьмем алгоритм ближайшего соседа и посмотрим его результат без подбора параметров на кросс-валидации, а потом с подбором"
   ]
  },
  {
   "cell_type": "code",
   "execution_count": 308,
   "metadata": {},
   "outputs": [
    {
     "name": "stdout",
     "output_type": "stream",
     "text": [
      "Average value on cross-validation without right parametrs: 0.9412413877826802\n"
     ]
    }
   ],
   "source": [
    "model = KNeighborsClassifier()\n",
    "model.fit(X_train, y_train)\n",
    "y_pred = model.predict(X_test)\n",
    "\n",
    "model.score(X_test, y_test)\n",
    "\n",
    "scores = cross_val_score(model, X_train, y_train, cv=5,\n",
    "                        scoring='f1')\n",
    "print('Average value on cross-validation without right parametrs:', scores.mean())"
   ]
  },
  {
   "cell_type": "code",
   "execution_count": 309,
   "metadata": {},
   "outputs": [
    {
     "data": {
      "text/plain": [
       "KNeighborsClassifier(algorithm='auto', leaf_size=30, metric='minkowski',\n",
       "           metric_params=None, n_jobs=1, n_neighbors=9, p=2,\n",
       "           weights='uniform')"
      ]
     },
     "execution_count": 309,
     "metadata": {},
     "output_type": "execute_result"
    }
   ],
   "source": [
    "params = {'n_neighbors': range(1,30), 'algorithm': ['auto', 'ball_tree', 'kd_tree', 'brute']}\n",
    "model = KNeighborsClassifier()\n",
    "clf = GridSearchCV(model, params)\n",
    "clf.fit(X_train, y_train)\n",
    "clf.best_estimator_"
   ]
  },
  {
   "cell_type": "markdown",
   "metadata": {},
   "source": [
    "Попробуем подобрать праметр `leaf_size` для классификатора и посмотрим что выйдет"
   ]
  },
  {
   "cell_type": "code",
   "execution_count": 310,
   "metadata": {},
   "outputs": [],
   "source": [
    "acc = []\n",
    "k = [i for i in range(2,50)]\n",
    "for i in k:\n",
    "    model = KNeighborsClassifier(n_neighbors=9, leaf_size=i)\n",
    "    model.fit(X_train, y_train)\n",
    "    y_pred = model.predict(X_test)\n",
    "    ac = f1_score(y_test, y_pred)\n",
    "    acc.append(ac)"
   ]
  },
  {
   "cell_type": "code",
   "execution_count": 311,
   "metadata": {
    "scrolled": true
   },
   "outputs": [
    {
     "data": {
      "image/png": "[encoded data removed]",
      "text/plain": [
       "<matplotlib.figure.Figure at 0x1a1f8f40b8>"
      ]
     },
     "metadata": {},
     "output_type": "display_data"
    }
   ],
   "source": [
    "plt.plot(k, acc)\n",
    "plt.xlabel('k')\n",
    "plt.ylabel('f1_score')\n",
    "plt.show()"
   ]
  },
  {
   "cell_type": "markdown",
   "metadata": {},
   "source": [
    "Итог - внезависимости от значения этого параметра, метрика `f1_score` всегда остается на прежнем уровне (~0.95)"
   ]
  },
  {
   "cell_type": "code",
   "execution_count": 312,
   "metadata": {},
   "outputs": [
    {
     "name": "stdout",
     "output_type": "stream",
     "text": [
      "Average value on cross-validation with right parametrs: 0.9443030483408437\n"
     ]
    }
   ],
   "source": [
    "model = KNeighborsClassifier(n_neighbors=9)\n",
    "model.fit(X_train, y_train)\n",
    "y_pred = model.predict(X_test)\n",
    "\n",
    "model.score(X_test, y_test)\n",
    "\n",
    "scores = cross_val_score(model, X_train, y_train, cv=5,\n",
    "                        scoring='f1')\n",
    "print('Average value on cross-validation with right parametrs:', scores.mean())"
   ]
  },
  {
   "cell_type": "markdown",
   "metadata": {},
   "source": [
    "### Logistic regression"
   ]
  },
  {
   "cell_type": "markdown",
   "metadata": {},
   "source": [
    "Сделаем все тоже самое, но уже с алгоритмом логистической регресии"
   ]
  },
  {
   "cell_type": "code",
   "execution_count": 313,
   "metadata": {},
   "outputs": [
    {
     "name": "stdout",
     "output_type": "stream",
     "text": [
      "Average value on cross-validation: 0.9466114095624831\n"
     ]
    }
   ],
   "source": [
    "model = LogisticRegression()\n",
    "model.fit(X_train, y_train)\n",
    "y_pred = model.predict(X_test)\n",
    "y_pred\n",
    "\n",
    "classification_report(y_test, y_pred)\n",
    "\n",
    "scores = cross_val_score(model, X_train, y_train, cv=5,\n",
    "                        scoring='f1')\n",
    "print('Average value on cross-validation:',scores.mean())"
   ]
  },
  {
   "cell_type": "code",
   "execution_count": 314,
   "metadata": {},
   "outputs": [
    {
     "data": {
      "text/plain": [
       "LogisticRegression(C=1, class_weight=None, dual=False, fit_intercept=True,\n",
       "          intercept_scaling=1, max_iter=100, multi_class='ovr', n_jobs=1,\n",
       "          penalty='l2', random_state=None, solver='newton-cg', tol=0.0001,\n",
       "          verbose=0, warm_start=False)"
      ]
     },
     "execution_count": 314,
     "metadata": {},
     "output_type": "execute_result"
    }
   ],
   "source": [
    "params = {'C': range(1,10), 'solver': ['newton-cg', 'lbfgs', 'liblinear', 'sag', 'saga']}\n",
    "model = LogisticRegression()\n",
    "clf = GridSearchCV(model, params)\n",
    "clf.fit(X_train, y_train)\n",
    "clf.best_estimator_"
   ]
  },
  {
   "cell_type": "code",
   "execution_count": 315,
   "metadata": {},
   "outputs": [
    {
     "name": "stdout",
     "output_type": "stream",
     "text": [
      "Average value on cross-validation: 0.9480096161283298\n"
     ]
    }
   ],
   "source": [
    "model = LogisticRegression(C=1, solver='newton-cg')\n",
    "model.fit(X_train, y_train)\n",
    "y_pred = model.predict(X_test)\n",
    "y_pred\n",
    "\n",
    "classification_report(y_test, y_pred)\n",
    "\n",
    "scores = cross_val_score(model, X_train, y_train, cv=5,\n",
    "                        scoring='f1')\n",
    "print('Average value on cross-validation:',scores.mean())"
   ]
  },
  {
   "cell_type": "markdown",
   "metadata": {},
   "source": [
    "### Decision Tree Classifier"
   ]
  },
  {
   "cell_type": "code",
   "execution_count": 316,
   "metadata": {},
   "outputs": [
    {
     "name": "stdout",
     "output_type": "stream",
     "text": [
      "Average value on cross-validation: 0.9170093638595656\n"
     ]
    }
   ],
   "source": [
    "model = DecisionTreeClassifier()\n",
    "model.fit(X_train, y_train)\n",
    "y_pred = model.predict(X_test)\n",
    "y_pred\n",
    "\n",
    "classification_report(y_test, y_pred)\n",
    "\n",
    "scores = cross_val_score(model, X_train, y_train, cv=5,\n",
    "                        scoring='f1')\n",
    "print('Average value on cross-validation:',scores.mean())"
   ]
  },
  {
   "cell_type": "code",
   "execution_count": 317,
   "metadata": {},
   "outputs": [
    {
     "data": {
      "text/plain": [
       "DecisionTreeClassifier(class_weight=None, criterion='entropy', max_depth=3,\n",
       "            max_features=None, max_leaf_nodes=None,\n",
       "            min_impurity_decrease=0.0, min_impurity_split=None,\n",
       "            min_samples_leaf=1, min_samples_split=2,\n",
       "            min_weight_fraction_leaf=0.0, presort=False, random_state=None,\n",
       "            splitter='best')"
      ]
     },
     "execution_count": 317,
     "metadata": {},
     "output_type": "execute_result"
    }
   ],
   "source": [
    "params = {'min_samples_split': range(2,40), 'max_depth': range(2,20), 'criterion': ['gini', 'entropy']}\n",
    "model = DecisionTreeClassifier()\n",
    "clf = GridSearchCV(model, params)\n",
    "clf.fit(X_train, y_train)\n",
    "clf.best_estimator_\n"
   ]
  },
  {
   "cell_type": "code",
   "execution_count": 318,
   "metadata": {},
   "outputs": [
    {
     "name": "stdout",
     "output_type": "stream",
     "text": [
      "Average value on cross-validation: 0.947903200800836\n"
     ]
    }
   ],
   "source": [
    "model = DecisionTreeClassifier(criterion='entropy', max_depth=3 , min_samples_split=2)\n",
    "model.fit(X_train, y_train)\n",
    "y_pred = model.predict(X_test)\n",
    "y_pred\n",
    "\n",
    "# classification_report(y_test, y_pred)\n",
    "\n",
    "scores = cross_val_score(model, X_train, y_train, cv=5,\n",
    "                        scoring='f1')\n",
    "print('Average value on cross-validation:',scores.mean())"
   ]
  },
  {
   "cell_type": "markdown",
   "metadata": {},
   "source": [
    "Так как мы смогли подобрать с помощью метода `GridSearchCV` основные параметры, то мы можем их применить для поиска оптимального значения `min_samples_leaf`. Сделаем это с помощью отрисовки графика зависимости значения параметра `min_samples_leaf` и метрики `f1_score`"
   ]
  },
  {
   "cell_type": "code",
   "execution_count": 319,
   "metadata": {},
   "outputs": [],
   "source": [
    "f1 = []\n",
    "k = [i for i in range(2,40)]\n",
    "for i in k:\n",
    "    model = DecisionTreeClassifier(criterion='entropy', max_depth=3 , min_samples_split=2,\n",
    "                                  min_samples_leaf=i)\n",
    "    model.fit(X_train, y_train)\n",
    "    y_pred = model.predict(X_test)\n",
    "    f = f1_score(y_test, y_pred)\n",
    "    f1.append(f)"
   ]
  },
  {
   "cell_type": "code",
   "execution_count": 320,
   "metadata": {},
   "outputs": [
    {
     "data": {
      "image/png": "[encoded data removed]",
      "text/plain": [
       "<matplotlib.figure.Figure at 0x1a1dfa7518>"
      ]
     },
     "metadata": {},
     "output_type": "display_data"
    }
   ],
   "source": [
    "plt.plot(k, f1)\n",
    "plt.xlabel('k')\n",
    "plt.ylabel('f1_score')\n",
    "plt.show()"
   ]
  },
  {
   "cell_type": "markdown",
   "metadata": {},
   "source": [
    "В итоге получаем, что можно выбрать значения параметра от `5` до `18`. Возьмем значение `8` и получим конечную модель "
   ]
  },
  {
   "cell_type": "code",
   "execution_count": 321,
   "metadata": {},
   "outputs": [
    {
     "name": "stdout",
     "output_type": "stream",
     "text": [
      "Average value on cross-validation: 0.9487274082394702\n"
     ]
    }
   ],
   "source": [
    "model = DecisionTreeClassifier(criterion='entropy', max_depth=3 , min_samples_split=2,\n",
    "                              min_samples_leaf=8)\n",
    "model.fit(X_train, y_train)\n",
    "y_pred = model.predict(X_test)\n",
    "y_pred\n",
    "\n",
    "# classification_report(y_test, y_pred)\n",
    "\n",
    "scores = cross_val_score(model, X_train, y_train, cv=5,\n",
    "                        scoring='f1')\n",
    "print('Average value on cross-validation:',scores.mean())"
   ]
  },
  {
   "cell_type": "markdown",
   "metadata": {},
   "source": [
    "### Итог\n",
    "\n",
    "Получилось, что наилучший рещультат дал алгоритм `Decision Tree Classifier`. По метрике `f1` он равен около `0.9487`"
   ]
  },
  {
   "cell_type": "markdown",
   "metadata": {},
   "source": [
    "## Задание 3"
   ]
  },
  {
   "cell_type": "markdown",
   "metadata": {},
   "source": [
    "Для начала также подготовим наши данные для многоклассовой классификации. Введем следующие обозначения: <br>\n",
    "$18 <= G3 <= 20 - 5$ (отлично) <br>\n",
    "$14 <= G3 <= 17 - 4$ (хорошо) <br>\n",
    "$8 <= G3 <= 13 - 3$ (удовлитворительно) <br>\n",
    "$G3 < 8 - 2$ (неудовлитворитльно)"
   ]
  },
  {
   "cell_type": "code",
   "execution_count": 322,
   "metadata": {},
   "outputs": [],
   "source": [
    "cols = ['G1', 'G2', 'G3']\n",
    "X = data.drop(cols, axis=1)\n",
    "y = data['G3'][:]\n",
    "\n",
    "new_y = []\n",
    "for el in y:\n",
    "    if el >= 18 and el <= 20:\n",
    "        el = 5\n",
    "        \n",
    "    elif el >= 14 and el <= 17:\n",
    "        el = 4\n",
    "        \n",
    "    elif el >= 8 and el <= 13:\n",
    "        el = 3\n",
    "        \n",
    "    else:\n",
    "        el = 2\n",
    "    new_y.append(el)\n",
    "\n",
    "y = pd.Series(new_y)\n",
    "\n",
    "X_train, X_test, y_train, y_test = train_test_split(X, y, test_size=0.3, random_state=11)"
   ]
  },
  {
   "cell_type": "markdown",
   "metadata": {},
   "source": [
    "P.S. Буду использовать метрику `f1_samples` на кросс-валидации, так как она предназначена для определения качества классификатора в многокласовой классификации"
   ]
  },
  {
   "cell_type": "markdown",
   "metadata": {},
   "source": [
    "### KNeighborsClassifier\n",
    "\n",
    "Делаем все те же шаги, что и для бинарной классификации. В многоклассовой классификации у нас изменится только метрика качества на кросс валидации"
   ]
  },
  {
   "cell_type": "code",
   "execution_count": 323,
   "metadata": {},
   "outputs": [
    {
     "name": "stdout",
     "output_type": "stream",
     "text": [
      "Average value on cross-validation without right parametrs: 0.5261994682930643\n"
     ]
    }
   ],
   "source": [
    "model = KNeighborsClassifier()\n",
    "model.fit(X_train, y_train)\n",
    "y_pred = model.predict(X_test)\n",
    "\n",
    "model.score(X_test, y_test)\n",
    "\n",
    "scores = cross_val_score(model, X_train, y_train, cv=5,\n",
    "                        scoring='accuracy')\n",
    "print('Average value on cross-validation without right parametrs:', scores.mean())"
   ]
  },
  {
   "cell_type": "code",
   "execution_count": 324,
   "metadata": {},
   "outputs": [
    {
     "data": {
      "text/plain": [
       "KNeighborsClassifier(algorithm='auto', leaf_size=30, metric='minkowski',\n",
       "           metric_params=None, n_jobs=1, n_neighbors=24, p=2,\n",
       "           weights='uniform')"
      ]
     },
     "execution_count": 324,
     "metadata": {},
     "output_type": "execute_result"
    }
   ],
   "source": [
    "params = {'n_neighbors': range(1,30), 'algorithm': ['auto', 'ball_tree', 'kd_tree', 'brute']}\n",
    "model = KNeighborsClassifier()\n",
    "clf = GridSearchCV(model, params)\n",
    "clf.fit(X_train, y_train)\n",
    "clf.best_estimator_"
   ]
  },
  {
   "cell_type": "code",
   "execution_count": 325,
   "metadata": {},
   "outputs": [],
   "source": [
    "acc = []\n",
    "k = [i for i in range(2,50)]\n",
    "for i in k:\n",
    "    model = KNeighborsClassifier(n_neighbors=24, leaf_size=i)\n",
    "    model.fit(X_train, y_train)\n",
    "    y_pred = model.predict(X_test)\n",
    "    ac = accuracy_score(y_test, y_pred)\n",
    "    acc.append(ac)"
   ]
  },
  {
   "cell_type": "code",
   "execution_count": 326,
   "metadata": {},
   "outputs": [
    {
     "data": {
      "image/png": "[encoded data removed]",
      "text/plain": [
       "<matplotlib.figure.Figure at 0x1a20983940>"
      ]
     },
     "metadata": {},
     "output_type": "display_data"
    }
   ],
   "source": [
    "plt.plot(k, acc)\n",
    "plt.xlabel('k')\n",
    "plt.ylabel('Accuracy')\n",
    "plt.show()"
   ]
  },
  {
   "cell_type": "markdown",
   "metadata": {},
   "source": [
    "Итог - как и в случае с бинарной классификацией, алгоритм `KNeighborsClassifier` не меняет точность с изменением параметра `accuracy`"
   ]
  },
  {
   "cell_type": "markdown",
   "metadata": {},
   "source": [
    "### Decision Tree Classifier"
   ]
  },
  {
   "cell_type": "code",
   "execution_count": 327,
   "metadata": {},
   "outputs": [
    {
     "name": "stdout",
     "output_type": "stream",
     "text": [
      "Average value on cross-validation: 0.5176960669325201\n"
     ]
    }
   ],
   "source": [
    "model = DecisionTreeClassifier()\n",
    "model.fit(X_train, y_train)\n",
    "y_pred = model.predict(X_test)\n",
    "y_pred\n",
    "\n",
    "classification_report(y_test, y_pred)\n",
    "\n",
    "scores = cross_val_score(model, X_train, y_train, cv=5,\n",
    "                        scoring='accuracy')\n",
    "print('Average value on cross-validation:', scores.mean())"
   ]
  },
  {
   "cell_type": "code",
   "execution_count": 328,
   "metadata": {},
   "outputs": [
    {
     "data": {
      "text/plain": [
       "DecisionTreeClassifier(class_weight=None, criterion='gini', max_depth=4,\n",
       "            max_features=None, max_leaf_nodes=None,\n",
       "            min_impurity_decrease=0.0, min_impurity_split=None,\n",
       "            min_samples_leaf=1, min_samples_split=38,\n",
       "            min_weight_fraction_leaf=0.0, presort=False, random_state=None,\n",
       "            splitter='best')"
      ]
     },
     "execution_count": 328,
     "metadata": {},
     "output_type": "execute_result"
    }
   ],
   "source": [
    "params = {'min_samples_split': range(2,40), 'max_depth': range(2,20), 'criterion': ['gini', 'entropy']}\n",
    "model = DecisionTreeClassifier()\n",
    "clf = GridSearchCV(model, params)\n",
    "clf.fit(X_train, y_train)\n",
    "clf.best_estimator_\n"
   ]
  },
  {
   "cell_type": "markdown",
   "metadata": {},
   "source": [
    "С помощью `GridSearchCV` были подобраны не все оптимальные значения для нашего алгоритма. Нужно еще подобрать параметр `min_samples_leaf`!"
   ]
  },
  {
   "cell_type": "code",
   "execution_count": 329,
   "metadata": {},
   "outputs": [],
   "source": [
    "f1 = []\n",
    "k = [i for i in range(2,40)]\n",
    "for i in k:\n",
    "    model = DecisionTreeClassifier(criterion='gini', max_depth=4, min_samples_split=38,\n",
    "                                  min_samples_leaf=i)\n",
    "    model.fit(X_train, y_train)\n",
    "    y_pred = model.predict(X_test)\n",
    "    f = accuracy_score(y_test, y_pred)\n",
    "    f1.append(f)"
   ]
  },
  {
   "cell_type": "code",
   "execution_count": 330,
   "metadata": {},
   "outputs": [
    {
     "data": {
      "image/png": "[encoded data removed]",
      "text/plain": [
       "<matplotlib.figure.Figure at 0x1a1fa24390>"
      ]
     },
     "metadata": {},
     "output_type": "display_data"
    }
   ],
   "source": [
    "plt.plot(k, f1)\n",
    "plt.xlabel('k')\n",
    "plt.ylabel('Accuracy')\n",
    "plt.show()"
   ]
  },
  {
   "cell_type": "markdown",
   "metadata": {},
   "source": [
    "Получается, что мы можем взять значения где-то от `10` и до `18`. Используем значение `12`"
   ]
  },
  {
   "cell_type": "code",
   "execution_count": 331,
   "metadata": {},
   "outputs": [
    {
     "name": "stdout",
     "output_type": "stream",
     "text": [
      "Average value on cross-validation: 0.6163431464539839\n"
     ]
    }
   ],
   "source": [
    "model = DecisionTreeClassifier(criterion='gini', max_depth=4, min_samples_split=38,\n",
    "                                  min_samples_leaf=12)\n",
    "model.fit(X_train, y_train)\n",
    "y_pred = model.predict(X_test)\n",
    "y_pred\n",
    "\n",
    "classification_report(y_test, y_pred)\n",
    "\n",
    "scores = cross_val_score(model, X_train, y_train, cv=5,\n",
    "                        scoring='accuracy')\n",
    "print('Average value on cross-validation:', scores.mean())"
   ]
  },
  {
   "cell_type": "markdown",
   "metadata": {},
   "source": [
    "## Итог\n",
    "\n",
    "Лучший результат также дает алгоритм `Decison Tree Classifier` при правильно подобранных оптимальных значениях"
   ]
  }
 ],
 "metadata": {
  "kernelspec": {
   "display_name": "Python 3",
   "language": "python",
   "name": "python3"
  },
  "language_info": {
   "codemirror_mode": {
    "name": "ipython",
    "version": 3
   },
   "file_extension": ".py",
   "mimetype": "text/x-python",
   "name": "python",
   "nbconvert_exporter": "python",
   "pygments_lexer": "ipython3",
   "version": "3.6.4"
  }
 },
 "nbformat": 4,
 "nbformat_minor": 2
}
