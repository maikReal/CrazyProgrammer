{
 "cells": [
  {
   "cell_type": "code",
   "execution_count": 1,
   "metadata": {},
   "outputs": [],
   "source": [
    "import numpy as np\n",
    "import pandas as pd\n",
    "import matplotlib.pyplot as plt\n",
    "import seaborn as sns\n",
    "from geopy import Point, distance\n",
    "from datetime import datetime, time\n",
    "import geopy # for dist between two points\n",
    "import datetime\n",
    "\n",
    "\n",
    "import warnings\n",
    "warnings.filterwarnings('ignore')"
   ]
  },
  {
   "cell_type": "markdown",
   "metadata": {},
   "source": [
    "1. Попробовать применить масштабирование <br>\n",
    "2. Попробовать PolynomialFeatures <br>\n",
    "3. GridSearchCV"
   ]
  },
  {
   "cell_type": "markdown",
   "metadata": {},
   "source": [
    "latitude -> широта (вертикаль) <br>\n",
    "longtitude -> долгота (горизонт)"
   ]
  },
  {
   "cell_type": "code",
   "execution_count": 2,
   "metadata": {},
   "outputs": [],
   "source": [
    "x_train = pd.DataFrame(np.load('x_train.npy'))\n",
    "x_test = pd.DataFrame(np.load('x_test.npy'))\n",
    "y_train = pd.DataFrame(np.load('y_train.npy'))"
   ]
  },
  {
   "cell_type": "code",
   "execution_count": 3,
   "metadata": {},
   "outputs": [],
   "source": [
    "# coordinate grid for train\n",
    "\n",
    "lat = np.linspace(x_train['lat'].min() + 0.30, x_train['lat'].max(), 5)\n",
    "long = np.linspace(x_train['long'].min() + 0.30, x_train['long'].max(), 5)\n",
    "\n",
    "df = pd.DataFrame(x_train['lat'])\n",
    "df['long'] = x_train['long']\n",
    "df['coors_lat'] = 0\n",
    "df['coors_long'] = 0\n",
    "df['final_coors'] = 0\n",
    "\n",
    "\n",
    "df['coors_lat'][np.where(df['lat'] <= lat[4])[0]] = 5\n",
    "df['coors_lat'][np.where(df['lat'] <= lat[3])[0]] = 4\n",
    "df['coors_lat'][np.where(df['lat'] <= lat[2])[0]] = 3\n",
    "df['coors_lat'][np.where(df['lat'] <= lat[1])[0]] = 2\n",
    "df['coors_lat'][np.where(df['lat'] <= lat[0])[0]] = 1\n",
    "\n",
    "df['coors_long'][np.where(df['long'] <= long[4])[0]] = 5\n",
    "df['coors_long'][np.where(df['long'] <= long[3])[0]] = 4\n",
    "df['coors_long'][np.where(df['long'] <= long[2])[0]] = 3\n",
    "df['coors_long'][np.where(df['long'] <= long[1])[0]] = 2\n",
    "df['coors_long'][np.where(df['long'] <= long[0])[0]] = 1\n",
    "\n",
    "\n",
    "df['coors_lat'] = df['coors_lat'].astype('str')\n",
    "df['coors_long'] = df['coors_long'].astype('str')\n",
    "\n",
    "df['final_coors'] = (df['coors_lat'] + '.' + df['coors_long']).astype('float')\n",
    "\n",
    "# x_train['grid_coors_lat'] = df['coors_lat']\n",
    "# x_train['grid_coors_long'] = df['coors_long']\n",
    "\n",
    "x_train['grid_coors'] = df['final_coors']"
   ]
  },
  {
   "cell_type": "code",
   "execution_count": 4,
   "metadata": {},
   "outputs": [],
   "source": [
    "# coordinate grid for test\n",
    "\n",
    "lat = np.linspace(x_test['lat'].min() + 0.30, x_test['lat'].max(), 5)\n",
    "long = np.linspace(x_test['long'].min() + 0.30, x_test['long'].max(), 5)\n",
    "\n",
    "df = pd.DataFrame(x_test['lat'])\n",
    "df['long'] = x_test['long']\n",
    "df['coors_lat'] = 0\n",
    "df['coors_long'] = 0\n",
    "df['final_coors'] = 0\n",
    "\n",
    "\n",
    "df['coors_lat'][np.where(df['lat'] <= lat[4])[0]] = 5\n",
    "df['coors_lat'][np.where(df['lat'] <= lat[3])[0]] = 4\n",
    "df['coors_lat'][np.where(df['lat'] <= lat[2])[0]] = 3\n",
    "df['coors_lat'][np.where(df['lat'] <= lat[1])[0]] = 2\n",
    "df['coors_lat'][np.where(df['lat'] <= lat[0])[0]] = 1\n",
    "\n",
    "df['coors_long'][np.where(df['long'] <= long[4])[0]] = 5\n",
    "df['coors_long'][np.where(df['long'] <= long[3])[0]] = 4\n",
    "df['coors_long'][np.where(df['long'] <= long[2])[0]] = 3\n",
    "df['coors_long'][np.where(df['long'] <= long[1])[0]] = 2\n",
    "df['coors_long'][np.where(df['long'] <= long[0])[0]] = 1\n",
    "\n",
    "\n",
    "df['coors_lat'] = df['coors_lat'].astype('str')\n",
    "df['coors_long'] = df['coors_long'].astype('str')\n",
    "\n",
    "df['final_coors'] = (df['coors_lat'] + '.' + df['coors_long']).astype('float')\n",
    "\n",
    "# x_test['grid_coors_lat'] = df['coors_lat']\n",
    "# x_test['grid_coors_long'] = df['coors_long']\n",
    "\n",
    "x_test['grid_coors'] = df['final_coors']"
   ]
  },
  {
   "cell_type": "code",
   "execution_count": 5,
   "metadata": {},
   "outputs": [],
   "source": [
    "# как давно делалась реконструкция\n",
    "def add_diff(x_train):\n",
    "    x_train['diff'] = 0\n",
    "    for i in range(len(x_train)):\n",
    "        cur_year = int(x_train.at[i, 'date'].split('-')[0])\n",
    "\n",
    "        if x_train.at[i, 'yr_renovated'] == 0:\n",
    "            x_train.at[i, 'diff'] = cur_year - x_train.at[i, 'yr_built']\n",
    "\n",
    "        else:\n",
    "            x_train.at[i, 'diff'] = cur_year - x_train.at[i, 'yr_renovated']\n",
    "\n",
    "\n",
    "add_diff(x_train)\n",
    "add_diff(x_test)"
   ]
  },
  {
   "cell_type": "markdown",
   "metadata": {},
   "source": [
    "latitude -> 47.6205 <br>\n",
    "longtitude -> -122.351"
   ]
  },
  {
   "cell_type": "code",
   "execution_count": 6,
   "metadata": {},
   "outputs": [],
   "source": [
    "\n",
    "\n",
    "def dist_to_place(data, point, col_name):\n",
    "    \n",
    "    point = geopy.Point(point)\n",
    "    dist_c = []\n",
    "    for i in range(data.shape[0]):\n",
    "        \n",
    "        p1 = geopy.Point(data['lat'][i], data['long'][i])\n",
    "        dist_c.append(distance.distance(p1, point).km)\n",
    "    \n",
    "    data[col_name] = dist_c\n",
    "    return data\n",
    "\n",
    "center = (47.6205, -122.351)\n",
    "col_name = 'to_center'\n",
    "x_train = dist_to_place(x_train, center, col_name)\n",
    "x_test = dist_to_place(x_test, center, col_name)"
   ]
  },
  {
   "cell_type": "code",
   "execution_count": 7,
   "metadata": {},
   "outputs": [],
   "source": [
    "# ТЦ\n",
    "\n",
    "def nearest_place(data, coors, col_name):\n",
    "    \n",
    "    dists = np.array([])\n",
    "    for i in range(data.shape[0]):\n",
    "        all_dist = np.array([])\n",
    "        \n",
    "        p1 = geopy.Point(data['lat'][i], data['long'][i])\n",
    "        for coor in coors:\n",
    "            all_dist = np.append(all_dist, distance.distance(p1, coor).km)\n",
    "           \n",
    "        min_dist = np.min(all_dist)\n",
    "        dists = np.append(dists, min_dist)\n",
    "        \n",
    "        \n",
    "    data[col_name] = dists\n",
    "    \n",
    "    return data\n",
    "\n",
    "coors = [(47.618133, -122.337716), (47.612810, -122.335250), (47.611979, -122.337680),\n",
    "        (47.608838, -122.334781), (47.458191, -122.257653), (47.615017, -122.203804)]        \n",
    "\n",
    "x_train = nearest_place(x_train, coors, 'to_tc')\n",
    "x_test = nearest_place(x_test, coors, 'to_tc')\n"
   ]
  },
  {
   "cell_type": "code",
   "execution_count": 8,
   "metadata": {},
   "outputs": [],
   "source": [
    "# to nearest park\n",
    "\n",
    "coors = [(47.542327, -122.260187), (47.549485, -122.256932), (47.563399, -122.266781),\n",
    "        (47.570636, -122.277513), (47.578884, -122.283542), (47.586352, -122.290139),\n",
    "        (47.590653, -122.288834), (47.589435, -122.300671), (47.599150, -122.290911),\n",
    "        (47.610156, -122.283442), (47.600389, -122.333184), (47.619538, -122.350058),\n",
    "        (47.610138, -122.283567), (47.619210, -122.282165), (47.620070, -122.280180)]\n",
    "\n",
    "x_train = nearest_place(x_train, coors, 'to_park')\n",
    "x_test = nearest_place(x_test, coors, 'to_park')"
   ]
  },
  {
   "cell_type": "code",
   "execution_count": 9,
   "metadata": {},
   "outputs": [],
   "source": [
    "# dostoprimechtel'nosti\n",
    "\n",
    "coors = [(47.512994, -122.266172), (47.517737, -122.296393), (47.551505, -122.352433),\n",
    "        (47.607280, -122.337958),  (47.629456, -122.359721)]\n",
    "\n",
    "x_train = nearest_place(x_train, coors, 'to_dost')\n",
    "x_test = nearest_place(x_test, coors, 'to_dost')"
   ]
  },
  {
   "cell_type": "code",
   "execution_count": 10,
   "metadata": {},
   "outputs": [],
   "source": [
    "# to school\n",
    "\n",
    "coors = [(47.643585, -122.350250), (47.641257, -122.316826), (47.632839, -122.352006),\n",
    "        (47.621476, -122.350759), (47.658028, -122.308421), (47.652735, -122.313252)]\n",
    "\n",
    "x_train = nearest_place(x_train, coors, 'to_school')\n",
    "x_test = nearest_place(x_test, coors, 'to_school')"
   ]
  },
  {
   "cell_type": "code",
   "execution_count": 11,
   "metadata": {},
   "outputs": [
    {
     "name": "stdout",
     "output_type": "stream",
     "text": [
      "<class 'pandas.core.frame.DataFrame'>\n",
      "RangeIndex: 15000 entries, 0 to 14999\n",
      "Data columns (total 23 columns):\n",
      "date             15000 non-null object\n",
      "bedrooms         15000 non-null float32\n",
      "bathrooms        15000 non-null float32\n",
      "sqft_living      15000 non-null int32\n",
      "sqft_lot         15000 non-null int32\n",
      "floors           15000 non-null float32\n",
      "waterfront       15000 non-null object\n",
      "condition        15000 non-null int32\n",
      "grade            15000 non-null int32\n",
      "sqft_above       15000 non-null int32\n",
      "sqft_basement    15000 non-null int32\n",
      "yr_built         15000 non-null int32\n",
      "yr_renovated     15000 non-null int32\n",
      "zipcode          15000 non-null int32\n",
      "lat              15000 non-null float32\n",
      "long             15000 non-null float32\n",
      "grid_coors       15000 non-null float64\n",
      "diff             15000 non-null int64\n",
      "to_center        15000 non-null float64\n",
      "to_tc            15000 non-null float64\n",
      "to_park          15000 non-null float64\n",
      "to_dost          15000 non-null float64\n",
      "to_school        15000 non-null float64\n",
      "dtypes: float32(5), float64(6), int32(9), int64(1), object(2)\n",
      "memory usage: 1.8+ MB\n"
     ]
    }
   ],
   "source": [
    "x_train['waterfront'] = x_train['waterfront'].astype('object')\n",
    "# x_train\n",
    "x_train.info()"
   ]
  },
  {
   "cell_type": "code",
   "execution_count": 12,
   "metadata": {},
   "outputs": [
    {
     "data": {
      "image/png": "[encoded data removed]",
      "text/plain": [
       "<matplotlib.figure.Figure at 0x7f3ea7684a90>"
      ]
     },
     "metadata": {
      "needs_background": "light"
     },
     "output_type": "display_data"
    }
   ],
   "source": [
    "data = x_train.corr()\n",
    "sns.heatmap(data)\n",
    "\n",
    "plt.show()"
   ]
  },
  {
   "cell_type": "code",
   "execution_count": 13,
   "metadata": {},
   "outputs": [],
   "source": [
    "x_train = x_train.drop(['sqft_above'], axis=1)\n",
    "x_test = x_test.drop(['sqft_above'], axis=1)"
   ]
  },
  {
   "cell_type": "code",
   "execution_count": 14,
   "metadata": {},
   "outputs": [
    {
     "data": {
      "image/png": "[encoded data removed]",
      "text/plain": [
       "<matplotlib.figure.Figure at 0x7f3ea736ba58>"
      ]
     },
     "metadata": {
      "needs_background": "light"
     },
     "output_type": "display_data"
    }
   ],
   "source": [
    "data = x_train.corr()\n",
    "sns.heatmap(data)\n",
    "\n",
    "plt.show()"
   ]
  },
  {
   "cell_type": "code",
   "execution_count": 15,
   "metadata": {},
   "outputs": [
    {
     "data": {
      "image/png": "[encoded data removed]",
      "text/plain": [
       "<matplotlib.figure.Figure at 0x7f3ea71c8c18>"
      ]
     },
     "metadata": {
      "needs_background": "light"
     },
     "output_type": "display_data"
    }
   ],
   "source": [
    "plt.figure(figsize=(13, 4))\n",
    "plt.subplot(121)\n",
    "sns.boxplot(y_train)\n",
    "plt.subplot(122)\n",
    "sns.distplot(y_train)\n",
    "plt.show()"
   ]
  },
  {
   "cell_type": "code",
   "execution_count": 16,
   "metadata": {},
   "outputs": [
    {
     "data": {
      "image/png": "[encoded data removed]",
      "text/plain": [
       "<matplotlib.figure.Figure at 0x7f3ea708fe80>"
      ]
     },
     "metadata": {
      "needs_background": "light"
     },
     "output_type": "display_data"
    }
   ],
   "source": [
    "y_train = np.log(y_train)\n",
    "plt.figure(figsize=(13, 4))\n",
    "plt.subplot(121)\n",
    "sns.boxplot(y_train)\n",
    "plt.subplot(122)\n",
    "sns.distplot(y_train)\n",
    "plt.show()"
   ]
  },
  {
   "cell_type": "code",
   "execution_count": 17,
   "metadata": {},
   "outputs": [],
   "source": [
    "# train\n",
    "\n",
    "f1 = x_train['lat'].describe()['max']\n",
    "f2 = x_train['long'].describe()['max']\n",
    "\n",
    "df = pd.DataFrame()\n",
    "df['lat'] = x_train['lat']\n",
    "df['long'] = x_train['long']\n",
    "\n",
    "df['add_lat'] = round((f1 - df['lat']), 1)\n",
    "df['add_long'] = round((f2 - df['long']), 1)\n",
    "x_train['lat_inf'] = df['add_lat']\n",
    "x_train['long_inf'] = df['add_long']\n",
    "\n",
    "# test\n",
    "\n",
    "f1 = x_test['lat'].describe()['max']\n",
    "f2 = x_test['long'].describe()['max']\n",
    "\n",
    "df = pd.DataFrame()\n",
    "df['lat'] = x_test['lat']\n",
    "df['long'] = x_test['long']\n",
    "\n",
    "df['add_lat'] = round((f1 - df['lat']), 1)\n",
    "df['add_long'] = round((f2 - df['long']), 1)\n",
    "x_test['lat_inf'] = df['add_lat']\n",
    "x_test['long_inf'] = df['add_long']\n",
    "\n",
    "\n"
   ]
  },
  {
   "cell_type": "code",
   "execution_count": 18,
   "metadata": {},
   "outputs": [],
   "source": [
    "# train\n",
    "\n",
    "curr_year = datetime.datetime.now().year\n",
    "\n",
    "x_train['since_built'] = np.abs(x_train['yr_built'] - curr_year)\n",
    "x_test['since_built'] = np.abs(x_test['yr_built'] - curr_year)"
   ]
  },
  {
   "cell_type": "code",
   "execution_count": 20,
   "metadata": {},
   "outputs": [],
   "source": [
    "x_train['date'] = x_train['date'].astype('datetime64')\n"
   ]
  },
  {
   "cell_type": "markdown",
   "metadata": {},
   "source": [
    "# OneHotEncoding (на всякий случай оставил)"
   ]
  },
  {
   "cell_type": "code",
   "execution_count": 21,
   "metadata": {},
   "outputs": [],
   "source": [
    "from sklearn.preprocessing import LabelEncoder, OneHotEncoder\n",
    "\n",
    "def one_hot_preprocessing(data):\n",
    "    obj_cols = data.columns[data.dtypes == 'object']\n",
    "    \n",
    "    enc_data = [LabelEncoder().fit(data[col]) for col in obj_cols]\n",
    "    trans_cols = np.stack([e.transform(data[col]) for e, col in zip(enc_data, obj_cols)]).T\n",
    "    \n",
    "    enc = OneHotEncoder()\n",
    "    enc.fit(trans_cols)\n",
    "    new_cols = enc.transform(trans_cols).toarray()\n",
    "    \n",
    "    exsist_cols = data.columns[data.dtypes != 'object']\n",
    "    new_df = pd.DataFrame(new_cols, index=data.index)\n",
    "    data = pd.concat([data[exsist_cols], new_df], axis=1)\n",
    "    \n",
    "    return data"
   ]
  },
  {
   "cell_type": "code",
   "execution_count": 25,
   "metadata": {},
   "outputs": [],
   "source": [
    "from sklearn.model_selection import train_test_split\n",
    "\n",
    "# for tuning hyperparametrs\n",
    "\n",
    "x_train, x_test, y_train, y_test = train_test_split(x_train, y_train, test_size=0.3)\n"
   ]
  },
  {
   "cell_type": "markdown",
   "metadata": {},
   "source": [
    "# Перевод даты в сезоны\n"
   ]
  },
  {
   "cell_type": "code",
   "execution_count": 22,
   "metadata": {},
   "outputs": [],
   "source": [
    "x_test['date'] = x_test['date'].astype('datetime64')\n",
    "x_test['waterfront'] = x_test['waterfront'].astype('str')\n",
    "\n",
    "x_train['date']= x_train['date'].astype('datetime64')\n"
   ]
  },
  {
   "cell_type": "code",
   "execution_count": 23,
   "metadata": {},
   "outputs": [],
   "source": [
    "df = one_hot_preprocessing(x_train)\n",
    "x_train = df\n",
    "x_train = x_train.rename(columns={0:'False', 1:'True'})\n",
    "\n",
    "df = one_hot_preprocessing(x_test)\n",
    "x_test = df\n",
    "x_test = x_test.rename(columns={0:'False', 1:'True'})\n"
   ]
  },
  {
   "cell_type": "code",
   "execution_count": 24,
   "metadata": {},
   "outputs": [],
   "source": [
    "# set geoposition. North or South\n",
    "\n",
    "lat_c, long_c = 47.608155, -122.309512 # center of city\n",
    "\n",
    "x_train.loc[x_train['lat'] > lat_c, 'geopos1'] = 'North' \n",
    "x_train.loc[x_train['lat'] <= lat_c, 'geopos1'] = 'South'\n",
    "\n",
    "x_test.loc[x_test['lat'] > lat_c, 'geopos1'] = 'North' \n",
    "x_test.loc[x_test['lat'] <= lat_c, 'geopos1'] = 'South'\n",
    "\n",
    "\n",
    "x_train = one_hot_preprocessing(x_train)\n",
    "x_test = one_hot_preprocessing(x_test)\n",
    "\n",
    "x_train = x_train.rename(columns={0:'North', 1:'South'})\n",
    "x_test = x_test.rename(columns={0:'North', 1:'South'})"
   ]
  },
  {
   "cell_type": "code",
   "execution_count": 25,
   "metadata": {},
   "outputs": [],
   "source": [
    "# # set geoposition. East or West\n",
    "\n",
    "x_train.loc[x_train['long'] > long_c, 'geopos2'] = 'West' \n",
    "x_train.loc[x_train['long'] <= long_c, 'geopos2'] = 'East'\n",
    "\n",
    "x_test.loc[x_test['long'] > long_c, 'geopos2'] = 'West' \n",
    "x_test.loc[x_test['long'] <= long_c, 'geopos2'] = 'East'\n",
    "\n",
    "x_train = one_hot_preprocessing(x_train)\n",
    "x_test = one_hot_preprocessing(x_test)\n",
    "\n",
    "x_train = x_train.rename(columns={0:'West', 1:'East'})\n",
    "x_test = x_test.rename(columns={0:'West', 1:'East'})"
   ]
  },
  {
   "cell_type": "code",
   "execution_count": 26,
   "metadata": {},
   "outputs": [],
   "source": [
    "\n",
    "def to_day_of_year(date):\n",
    "    \n",
    "    doy = date.timetuple().tm_yday\n",
    "    \n",
    "    spring = range(60, 152)\n",
    "    summer = range(152, 244)\n",
    "    fall = range(244, 335)\n",
    "\n",
    "    if doy in spring:\n",
    "        season = 0\n",
    "    elif doy in summer:\n",
    "        season = 1\n",
    "    elif doy in fall:\n",
    "        season = 2\n",
    "    else:\n",
    "        season = 3\n",
    "        \n",
    "    return season"
   ]
  },
  {
   "cell_type": "code",
   "execution_count": 27,
   "metadata": {},
   "outputs": [],
   "source": [
    "x_train['date'] = [to_day_of_year(i) for i in x_train['date']]\n",
    "x_test['date'] = [to_day_of_year(i) for i in x_test['date']]\n"
   ]
  },
  {
   "cell_type": "code",
   "execution_count": 28,
   "metadata": {},
   "outputs": [],
   "source": [
    "def mean_absolute_percentage_error(y_true, y_pred):\n",
    "    \n",
    "    y_true = np.array(y_true)\n",
    "    y_pred = np.array(y_pred)\n",
    "    \n",
    "    return np.mean(np.abs((y_true - y_pred) / y_true)) * 100\n",
    "\n"
   ]
  },
  {
   "cell_type": "code",
   "execution_count": 30,
   "metadata": {},
   "outputs": [],
   "source": [
    "def mape_scorer(estimator, X_test, y_test):\n",
    "    return mean_absolute_percentage_error(np.exp(y_test), np.exp(estimator.predict(X_test)))"
   ]
  },
  {
   "cell_type": "markdown",
   "metadata": {},
   "source": [
    "# Добавление примочек"
   ]
  },
  {
   "cell_type": "code",
   "execution_count": 35,
   "metadata": {},
   "outputs": [],
   "source": [
    "from sklearn.model_selection import cross_validate, KFold\n",
    "\n",
    "train_indices = []\n",
    "test_indices = []\n",
    "kfolds = KFold(n_splits=5, random_state=1, shuffle=True)\n",
    "cv_folds = kfolds.split(x_train)\n",
    "for train_index, test_index in cv_folds:\n",
    "    train_indices.append(train_index)\n",
    "    test_indices.append(test_index)"
   ]
  },
  {
   "cell_type": "code",
   "execution_count": 31,
   "metadata": {},
   "outputs": [],
   "source": [
    "from sklearn.pipeline import Pipeline\n",
    "from sklearn.model_selection import GridSearchCV\n",
    "from sklearn.preprocessing import MinMaxScaler, PolynomialFeatures\n",
    "from sklearn.linear_model import LinearRegression, Ridge, Lasso, SGDRegressor, HuberRegressor, ElasticNet\n",
    "\n",
    "\n",
    "\n",
    "params = {'alpha' : np.linspace(-6, 6, 20)}\n",
    "\n",
    "pipe_2 = Pipeline([('poly', PolynomialFeatures(2)), ('ridge', GridSearchCV(Ridge(), params))])"
   ]
  },
  {
   "cell_type": "code",
   "execution_count": 32,
   "metadata": {},
   "outputs": [],
   "source": [
    "pipe_2.fit(x_train, y_train)\n",
    "y_pred = pipe_2.predict(x_test)\n",
    "\n",
    "# print(mean_absolute_percentage_error(np.exp(y_test), np.exp(y_pred))) # for tuning\n",
    "\n"
   ]
  },
  {
   "cell_type": "code",
   "execution_count": 34,
   "metadata": {},
   "outputs": [],
   "source": [
    "# save\n",
    "\n",
    "ids = [i for i in range(1, len(y_pred)+1)]\n",
    "out = pd.DataFrame(columns=['Id', 'Price'])\n",
    "out['Id'] = ids\n",
    "out['Price'] = np.exp(y_pred)\n",
    "\n",
    "out.to_csv('finish.csv', index=False)"
   ]
  },
  {
   "cell_type": "code",
   "execution_count": null,
   "metadata": {},
   "outputs": [],
   "source": []
  }
 ],
 "metadata": {
  "kernelspec": {
   "display_name": "Python 3",
   "language": "python",
   "name": "python3"
  },
  "language_info": {
   "codemirror_mode": {
    "name": "ipython",
    "version": 3
   },
   "file_extension": ".py",
   "mimetype": "text/x-python",
   "name": "python",
   "nbconvert_exporter": "python",
   "pygments_lexer": "ipython3",
   "version": "3.6.6"
  }
 },
 "nbformat": 4,
 "nbformat_minor": 2
}
